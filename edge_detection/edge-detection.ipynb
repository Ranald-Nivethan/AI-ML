{
 "cells": [
  {
   "cell_type": "code",
   "execution_count": 1,
   "metadata": {},
   "outputs": [
    {
     "name": "stdout",
     "output_type": "stream",
     "text": [
      "(1820, 946, 3)\n"
     ]
    }
   ],
   "source": [
    "import cv2\n",
    "import numpy as np\n",
    "#reading imahe\n",
    "img = cv2.imread('C:/Users/rojit\\Desktop/TCS-Assignments_Ranald Nivethan/Cohort_Assignments/day11_edge-detection/images/mann.jpg', cv2.IMREAD_UNCHANGED)\n",
    "\n",
    "#shape of image\n",
    "print(img.shape)"
   ]
  },
  {
   "cell_type": "code",
   "execution_count": 2,
   "metadata": {},
   "outputs": [
    {
     "name": "stdout",
     "output_type": "stream",
     "text": [
      "(1456, 756, 3)\n"
     ]
    }
   ],
   "source": [
    "\n",
    "\n",
    "#calculate 80% of image\n",
    "width = int(img.shape[1] * 80 / 100)\n",
    "height = int(img.shape[0] * 80 / 100)\n",
    "\n",
    "dsize = (width, height)\n",
    "\n",
    "# resize image\n",
    "output = cv2.resize(img, dsize)\n",
    "\n",
    "cv2.imwrite('C:/Users/rojit\\Desktop/TCS-Assignments_Ranald Nivethan/Cohort_Assignments/day11_edge-detection/images/mann_resize.jpg',output)\n",
    "\n",
    "#the new resized image\n",
    "img_resize = cv2.imread('C:/Users/rojit\\Desktop/TCS-Assignments_Ranald Nivethan/Cohort_Assignments/day11_edge-detection/images/mann_resize.jpg', cv2.IMREAD_UNCHANGED)\n",
    "print(img_resize.shape)"
   ]
  },
  {
   "cell_type": "code",
   "execution_count": 3,
   "metadata": {},
   "outputs": [
    {
     "data": {
      "text/plain": [
       "True"
      ]
     },
     "execution_count": 3,
     "metadata": {},
     "output_type": "execute_result"
    }
   ],
   "source": [
    "#convert to gray and set as 32 float points\n",
    "gray_img = np.float32(cv2.cvtColor(img_resize, cv2.COLOR_BGR2GRAY))\n",
    "cv2.imwrite('C:/Users/rojit\\Desktop/TCS-Assignments_Ranald Nivethan/Cohort_Assignments/day11_edge-detection/images/mann_gray.jpg',gray_img)\n",
    "\n",
    "  \n",
    "# apply the cv2.cornerHarris method\n",
    "# to detect the corners with appropriate\n",
    "# values as input parameters\n",
    "corners = cv2.cornerHarris(gray_img, 2, 5, 0.07)\n",
    "  \n",
    "#  dilated corners to mark corners\n",
    "corner = cv2.dilate(corners, None)\n",
    "\n",
    "cv2.imwrite('C:/Users/rojit\\Desktop/TCS-Assignments_Ranald Nivethan/Cohort_Assignments/day11_edge-detection/images/mann_corner.jpg',corner)\n",
    "  \n"
   ]
  },
  {
   "cell_type": "code",
   "execution_count": null,
   "metadata": {},
   "outputs": [],
   "source": []
  }
 ],
 "metadata": {
  "kernelspec": {
   "display_name": "Python 3",
   "language": "python",
   "name": "python3"
  },
  "language_info": {
   "codemirror_mode": {
    "name": "ipython",
    "version": 3
   },
   "file_extension": ".py",
   "mimetype": "text/x-python",
   "name": "python",
   "nbconvert_exporter": "python",
   "pygments_lexer": "ipython3",
   "version": "3.7.6"
  }
 },
 "nbformat": 4,
 "nbformat_minor": 4
}

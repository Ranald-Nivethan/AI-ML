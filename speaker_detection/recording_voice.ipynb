{
 "cells": [
  {
   "cell_type": "code",
   "execution_count": 1,
   "metadata": {},
   "outputs": [],
   "source": [
    "\n",
    "import os\n",
    "import wave\n",
    "import pickle\n",
    "import pyaudio\n",
    "import matplotlib.pyplot as plt\n",
    "import warnings\n",
    "import numpy as np\n",
    "from sklearn import preprocessing\n",
    "from scipy.io.wavfile import read\n",
    "import python_speech_features as mfcc\n",
    "from sklearn.mixture import GaussianMixture \n",
    "\n",
    "warnings.filterwarnings(\"ignore\")"
   ]
  },
  {
   "cell_type": "code",
   "execution_count": 2,
   "metadata": {},
   "outputs": [],
   "source": [
    "#recording training audio\n",
    "def record_audio_train():\n",
    "    Name =(input(\"Please Enter Your Name:\"))\n",
    "    for count in range(5):\n",
    "        FORMAT = pyaudio.paInt16\n",
    "        CHANNELS = 1\n",
    "        RATE = 44100\n",
    "        CHUNK = 512\n",
    "        RECORD_SECONDS = 10\n",
    "        device_index = 2\n",
    "        audio = pyaudio.PyAudio()\n",
    "        print(\"----------------------record device list---------------------\")\n",
    "        info = audio.get_host_api_info_by_index(0)\n",
    "        numdevices = info.get('deviceCount')\n",
    "        for i in range(0, numdevices):\n",
    "            if (audio.get_device_info_by_host_api_device_index(0, i).get('maxInputChannels')) > 0:\n",
    "                print(\"Input Device id \", i, \" - \", audio.get_device_info_by_host_api_device_index(0, i).get('name'))\n",
    "        print(\"-------------------------------------------------------------\")\n",
    "        index = int(input())\n",
    "        print(\"recording via index \"+str(index))\n",
    "        stream = audio.open(format=FORMAT, channels=CHANNELS, rate=RATE, input=True,input_device_index = index,frames_per_buffer=CHUNK)\n",
    "        print (\"recording started\")\n",
    "        Recordframes = []\n",
    "        for i in range(0, int(RATE / CHUNK * RECORD_SECONDS)):\n",
    "            data = stream.read(CHUNK)\n",
    "            Recordframes.append(data)\n",
    "        print (\"recording stopped\")\n",
    "        stream.stop_stream()\n",
    "        stream.close()\n",
    "        audio.terminate()\n",
    "        OUTPUT_FILENAME=Name+\"-sample\"+str(count)+\".wav\"\n",
    "        WAVE_OUTPUT_FILENAME=\"C:/Users/rojit/Desktop/database/voice/train_voice/\"+OUTPUT_FILENAME\n",
    "        trainedfilelist = open(\"C:/Users/rojit/Desktop/database/voice/train_voice/training_set_addition.txt\", 'a')\n",
    "        trainedfilelist.write(OUTPUT_FILENAME+\"\\n\")\n",
    "        waveFile = wave.open(WAVE_OUTPUT_FILENAME, 'wb')\n",
    "        waveFile.setnchannels(CHANNELS)\n",
    "        waveFile.setsampwidth(audio.get_sample_size(FORMAT))\n",
    "        waveFile.setframerate(RATE)\n",
    "        waveFile.writeframes(b''.join(Recordframes))\n",
    "        waveFile.close()"
   ]
  },
  {
   "cell_type": "code",
   "execution_count": 3,
   "metadata": {},
   "outputs": [
    {
     "name": "stdout",
     "output_type": "stream",
     "text": [
      "Please Enter Your Name:Ranald\n",
      "----------------------record device list---------------------\n",
      "Input Device id  0  -  Microsoft Sound Mapper - Input\n",
      "Input Device id  1  -  Microphone (Realtek(R) Audio)\n",
      "-------------------------------------------------------------\n",
      "1\n",
      "recording via index 1\n",
      "recording started\n",
      "recording stopped\n",
      "----------------------record device list---------------------\n",
      "Input Device id  0  -  Microsoft Sound Mapper - Input\n",
      "Input Device id  1  -  Microphone (Realtek(R) Audio)\n",
      "-------------------------------------------------------------\n",
      "1\n",
      "recording via index 1\n",
      "recording started\n",
      "recording stopped\n",
      "----------------------record device list---------------------\n",
      "Input Device id  0  -  Microsoft Sound Mapper - Input\n",
      "Input Device id  1  -  Microphone (Realtek(R) Audio)\n",
      "-------------------------------------------------------------\n",
      "1\n",
      "recording via index 1\n",
      "recording started\n",
      "recording stopped\n",
      "----------------------record device list---------------------\n",
      "Input Device id  0  -  Microsoft Sound Mapper - Input\n",
      "Input Device id  1  -  Microphone (Realtek(R) Audio)\n",
      "-------------------------------------------------------------\n",
      "1\n",
      "recording via index 1\n",
      "recording started\n",
      "recording stopped\n",
      "----------------------record device list---------------------\n",
      "Input Device id  0  -  Microsoft Sound Mapper - Input\n",
      "Input Device id  1  -  Microphone (Realtek(R) Audio)\n",
      "-------------------------------------------------------------\n",
      "1\n",
      "recording via index 1\n",
      "recording started\n",
      "recording stopped\n"
     ]
    }
   ],
   "source": [
    "record_audio_train()"
   ]
  },
  {
   "cell_type": "code",
   "execution_count": 4,
   "metadata": {},
   "outputs": [
    {
     "name": "stdout",
     "output_type": "stream",
     "text": [
      "Please Enter Your Name:Xavier\n",
      "----------------------record device list---------------------\n",
      "Input Device id  0  -  Microsoft Sound Mapper - Input\n",
      "Input Device id  1  -  Microphone (Realtek(R) Audio)\n",
      "-------------------------------------------------------------\n",
      "1\n",
      "recording via index 1\n",
      "recording started\n",
      "recording stopped\n",
      "----------------------record device list---------------------\n",
      "Input Device id  0  -  Microsoft Sound Mapper - Input\n",
      "Input Device id  1  -  Microphone (Realtek(R) Audio)\n",
      "-------------------------------------------------------------\n",
      "1\n",
      "recording via index 1\n",
      "recording started\n",
      "recording stopped\n",
      "----------------------record device list---------------------\n",
      "Input Device id  0  -  Microsoft Sound Mapper - Input\n",
      "Input Device id  1  -  Microphone (Realtek(R) Audio)\n",
      "-------------------------------------------------------------\n",
      "1\n",
      "recording via index 1\n",
      "recording started\n",
      "recording stopped\n",
      "----------------------record device list---------------------\n",
      "Input Device id  0  -  Microsoft Sound Mapper - Input\n",
      "Input Device id  1  -  Microphone (Realtek(R) Audio)\n",
      "-------------------------------------------------------------\n",
      "1\n",
      "recording via index 1\n",
      "recording started\n",
      "recording stopped\n",
      "----------------------record device list---------------------\n",
      "Input Device id  0  -  Microsoft Sound Mapper - Input\n",
      "Input Device id  1  -  Microphone (Realtek(R) Audio)\n",
      "-------------------------------------------------------------\n",
      "1\n",
      "recording via index 1\n",
      "recording started\n",
      "recording stopped\n"
     ]
    }
   ],
   "source": [
    "record_audio_train()\n"
   ]
  },
  {
   "cell_type": "code",
   "execution_count": 5,
   "metadata": {},
   "outputs": [
    {
     "name": "stdout",
     "output_type": "stream",
     "text": [
      "Please Enter Your Name:Nirmala\n",
      "----------------------record device list---------------------\n",
      "Input Device id  0  -  Microsoft Sound Mapper - Input\n",
      "Input Device id  1  -  Microphone (Realtek(R) Audio)\n",
      "-------------------------------------------------------------\n",
      "1\n",
      "recording via index 1\n",
      "recording started\n",
      "recording stopped\n",
      "----------------------record device list---------------------\n",
      "Input Device id  0  -  Microsoft Sound Mapper - Input\n",
      "Input Device id  1  -  Microphone (Realtek(R) Audio)\n",
      "-------------------------------------------------------------\n",
      "1\n",
      "recording via index 1\n",
      "recording started\n",
      "recording stopped\n",
      "----------------------record device list---------------------\n",
      "Input Device id  0  -  Microsoft Sound Mapper - Input\n",
      "Input Device id  1  -  Microphone (Realtek(R) Audio)\n",
      "-------------------------------------------------------------\n",
      "1\n",
      "recording via index 1\n",
      "recording started\n",
      "recording stopped\n",
      "----------------------record device list---------------------\n",
      "Input Device id  0  -  Microsoft Sound Mapper - Input\n",
      "Input Device id  1  -  Microphone (Realtek(R) Audio)\n",
      "-------------------------------------------------------------\n",
      "1\n",
      "recording via index 1\n",
      "recording started\n",
      "recording stopped\n",
      "----------------------record device list---------------------\n",
      "Input Device id  0  -  Microsoft Sound Mapper - Input\n",
      "Input Device id  1  -  Microphone (Realtek(R) Audio)\n",
      "-------------------------------------------------------------\n",
      "1\n",
      "recording via index 1\n",
      "recording started\n",
      "recording stopped\n"
     ]
    }
   ],
   "source": [
    "record_audio_train()\n"
   ]
  },
  {
   "cell_type": "code",
   "execution_count": 7,
   "metadata": {},
   "outputs": [],
   "source": [
    "#recording test audio\n",
    "def record_test():\n",
    "    Name =(input(\"Please Enter Your Name:\"))\n",
    "    FORMAT = pyaudio.paInt16\n",
    "    CHANNELS = 1\n",
    "    RATE = 44100\n",
    "    CHUNK = 512\n",
    "    RECORD_SECONDS = 10\n",
    "    device_index = 2\n",
    "    audio = pyaudio.PyAudio()\n",
    "    print(\"----------------------record device list---------------------\")\n",
    "    info = audio.get_host_api_info_by_index(0)\n",
    "    numdevices = info.get('deviceCount')\n",
    "    for i in range(0, numdevices):\n",
    "        if (audio.get_device_info_by_host_api_device_index(0, i).get('maxInputChannels')) > 0:\n",
    "            print(\"Input Device id \", i, \" - \", audio.get_device_info_by_host_api_device_index(0, i).get('name'))\n",
    "    print(\"-------------------------------------------------------------\")\n",
    "    index = int(input())\n",
    "    print(\"recording via index \"+str(index))\n",
    "    stream = audio.open(format=FORMAT, channels=CHANNELS, rate=RATE, input=True,input_device_index = index,frames_per_buffer=CHUNK)\n",
    "    print (\"recording started\")\n",
    "    Recordframes = []\n",
    "    for i in range(0, int(RATE / CHUNK * RECORD_SECONDS)):\n",
    "        data = stream.read(CHUNK)\n",
    "        Recordframes.append(data)\n",
    "    print (\"recording stopped\")\n",
    "    stream.stop_stream()\n",
    "    stream.close()\n",
    "    audio.terminate()\n",
    "    OUTPUT_FILENAME=Name+\"_test.wav\"\n",
    "    WAVE_OUTPUT_FILENAME=\"C:/Users/rojit/Desktop/database/voice/test_voice/\"+OUTPUT_FILENAME\n",
    "    trainedfilelist = open(\"C:/Users/rojit/Desktop/database/voice/test_voice/testing_set_addition.txt\", 'a')\n",
    "    trainedfilelist.write(OUTPUT_FILENAME+\"\\n\")\n",
    "    waveFile = wave.open(WAVE_OUTPUT_FILENAME, 'wb')\n",
    "    waveFile.setnchannels(CHANNELS)\n",
    "    waveFile.setsampwidth(audio.get_sample_size(FORMAT))\n",
    "    waveFile.setframerate(RATE)\n",
    "    waveFile.writeframes(b''.join(Recordframes))\n",
    "    waveFile.close()\n",
    "       "
   ]
  },
  {
   "cell_type": "code",
   "execution_count": 8,
   "metadata": {},
   "outputs": [
    {
     "name": "stdout",
     "output_type": "stream",
     "text": [
      "Please Enter Your Name:Ranald\n",
      "----------------------record device list---------------------\n",
      "Input Device id  0  -  Microsoft Sound Mapper - Input\n",
      "Input Device id  1  -  Microphone (Realtek(R) Audio)\n",
      "-------------------------------------------------------------\n",
      "1\n",
      "recording via index 1\n",
      "recording started\n",
      "recording stopped\n"
     ]
    }
   ],
   "source": [
    "record_test()"
   ]
  },
  {
   "cell_type": "code",
   "execution_count": 9,
   "metadata": {},
   "outputs": [
    {
     "name": "stdout",
     "output_type": "stream",
     "text": [
      "Please Enter Your Name:Xavier\n",
      "----------------------record device list---------------------\n",
      "Input Device id  0  -  Microsoft Sound Mapper - Input\n",
      "Input Device id  1  -  Microphone (Realtek(R) Audio)\n",
      "-------------------------------------------------------------\n",
      "1\n",
      "recording via index 1\n",
      "recording started\n",
      "recording stopped\n"
     ]
    }
   ],
   "source": [
    "record_test()\n"
   ]
  },
  {
   "cell_type": "code",
   "execution_count": null,
   "metadata": {},
   "outputs": [],
   "source": []
  }
 ],
 "metadata": {
  "kernelspec": {
   "display_name": "Python 3",
   "language": "python",
   "name": "python3"
  },
  "language_info": {
   "codemirror_mode": {
    "name": "ipython",
    "version": 3
   },
   "file_extension": ".py",
   "mimetype": "text/x-python",
   "name": "python",
   "nbconvert_exporter": "python",
   "pygments_lexer": "ipython3",
   "version": "3.7.6"
  }
 },
 "nbformat": 4,
 "nbformat_minor": 4
}

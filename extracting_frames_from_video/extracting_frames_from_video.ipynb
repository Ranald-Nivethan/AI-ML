{
 "cells": [
  {
   "cell_type": "code",
   "execution_count": 6,
   "metadata": {},
   "outputs": [],
   "source": [
    "import cv2\n",
    "import os\n"
   ]
  },
  {
   "cell_type": "code",
   "execution_count": 16,
   "metadata": {},
   "outputs": [],
   "source": [
    "path_train = 'C:/Users/rojit/Desktop/TCS-Assignments_Ranald Nivethan/Cohort_Assignments/day13_video-classification/database/train/'\n",
    "path_ftest = 'C:/Users/rojit/Desktop/TCS-Assignments_Ranald Nivethan/Cohort_Assignments/day13_video-classification/database/f_test/'\n",
    "\n",
    "labels = ['diving','lifting','riding-horse', 'skateboarding']\n",
    "\n",
    "def read_video():\n",
    "    \n",
    "    for path in os.listdir(path_train):\n",
    "        for vid in os.listdir(path_train+path):\n",
    "            cap = cv2.VideoCapture(path_train+path+'/'+vid+'/'+os.listdir(path_train+path+'/'+vid+'/')[0])\n",
    "            r = os.listdir(path_train+path+'/'+vid+'/')[0]\n",
    "            c=1\n",
    "            while(True):\n",
    "                success, frame = cap.read()\n",
    "                if success:\n",
    "                    filename = path_train+path+'/'+vid+'/'+r.split('.')[0]+str(c)+'.jpg'\n",
    "                    cv2.imwrite(filename, frame)\n",
    "                    c = c+1\n",
    "                else:\n",
    "                    break\n",
    "            c = 1\n",
    "            cap.release()\n",
    "    return \"Videos to frames successful\""
   ]
  },
  {
   "cell_type": "code",
   "execution_count": 17,
   "metadata": {},
   "outputs": [
    {
     "data": {
      "text/plain": [
       "'Videos to frames successful'"
      ]
     },
     "execution_count": 17,
     "metadata": {},
     "output_type": "execute_result"
    }
   ],
   "source": [
    "read_video()"
   ]
  },
  {
   "cell_type": "code",
   "execution_count": 22,
   "metadata": {},
   "outputs": [],
   "source": [
    "# extracting frames from the final test video\n",
    "path = 'C:/Users/rojit/Desktop/TCS-Assignments_Ranald Nivethan/Cohort_Assignments/day13_video-classification/database/f_test/skateboard_test.avi'\n",
    "cap = cv2.VideoCapture(path)\n",
    "c=1\n",
    "while(True):\n",
    "    success, frame = cap.read()\n",
    "    if success:\n",
    "        filename = 'C:/Users/rojit/Desktop/TCS-Assignments_Ranald Nivethan/Cohort_Assignments/day13_video-classification/database/f_test/'+'skateboard_test'+str(c)+'.jpg'\n",
    "        cv2.imwrite(filename, frame)\n",
    "        c = c+1\n",
    "    else:\n",
    "        break\n",
    "c = 1\n",
    "cap.release()\n",
    "      \n",
    "   "
   ]
  },
  {
   "cell_type": "code",
   "execution_count": null,
   "metadata": {},
   "outputs": [],
   "source": []
  }
 ],
 "metadata": {
  "kernelspec": {
   "display_name": "Python 3",
   "language": "python",
   "name": "python3"
  },
  "language_info": {
   "codemirror_mode": {
    "name": "ipython",
    "version": 3
   },
   "file_extension": ".py",
   "mimetype": "text/x-python",
   "name": "python",
   "nbconvert_exporter": "python",
   "pygments_lexer": "ipython3",
   "version": "3.7.6"
  }
 },
 "nbformat": 4,
 "nbformat_minor": 4
}

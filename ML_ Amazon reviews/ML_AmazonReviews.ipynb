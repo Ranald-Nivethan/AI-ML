{
 "cells": [
  {
   "cell_type": "code",
   "execution_count": 1,
   "metadata": {},
   "outputs": [
    {
     "data": {
      "text/html": [
       "<div>\n",
       "<style scoped>\n",
       "    .dataframe tbody tr th:only-of-type {\n",
       "        vertical-align: middle;\n",
       "    }\n",
       "\n",
       "    .dataframe tbody tr th {\n",
       "        vertical-align: top;\n",
       "    }\n",
       "\n",
       "    .dataframe thead th {\n",
       "        text-align: right;\n",
       "    }\n",
       "</style>\n",
       "<table border=\"1\" class=\"dataframe\">\n",
       "  <thead>\n",
       "    <tr style=\"text-align: right;\">\n",
       "      <th></th>\n",
       "      <th>Name</th>\n",
       "      <th>Title</th>\n",
       "      <th>Rating</th>\n",
       "      <th>Comment</th>\n",
       "    </tr>\n",
       "  </thead>\n",
       "  <tbody>\n",
       "    <tr>\n",
       "      <th>0</th>\n",
       "      <td>Vara Prasad</td>\n",
       "      <td>\\n\\n\\n\\n\\n\\n\\n\\n  \\n  \\n    Camera is not at a...</td>\n",
       "      <td>1.0 out of 5 stars</td>\n",
       "      <td>\\n\\n\\n\\n\\n\\n\\n\\n\\n\\n  \\n  \\n    \\n  After one ...</td>\n",
       "    </tr>\n",
       "    <tr>\n",
       "      <th>1</th>\n",
       "      <td>Abhishek BIswas</td>\n",
       "      <td>\\n\\n\\n\\n\\n\\n\\n\\n  \\n  \\n    10 DAYS REVIEW- Th...</td>\n",
       "      <td>5.0 out of 5 stars</td>\n",
       "      <td>\\n\\n\\n\\n\\n\\n\\n\\n\\n\\n  \\n  \\n    \\n  ### IN SHO...</td>\n",
       "    </tr>\n",
       "    <tr>\n",
       "      <th>2</th>\n",
       "      <td>Abdul Lateef</td>\n",
       "      <td>\\n\\n\\n\\n\\n\\n\\n\\n  \\n  \\n    The Performance Be...</td>\n",
       "      <td>4.0 out of 5 stars</td>\n",
       "      <td>\\n\\n\\n\\n\\n\\n\\n\\n\\n\\n  \\n  \\n    \\n  Feedback a...</td>\n",
       "    </tr>\n",
       "    <tr>\n",
       "      <th>3</th>\n",
       "      <td>Rajendra Singh rao</td>\n",
       "      <td>\\n\\n\\n\\n\\n\\n\\n\\n  \\n    तकनीकी खामी\\n  \\n  \\n</td>\n",
       "      <td>5.0 out of 5 stars</td>\n",
       "      <td>\\n\\n\\n\\n\\n\\n\\n\\n\\n\\n  \\n    \\n  में रेडमी के इ...</td>\n",
       "    </tr>\n",
       "    <tr>\n",
       "      <th>4</th>\n",
       "      <td>Neelabh Sinha</td>\n",
       "      <td>\\n\\n\\n\\n\\n\\n\\n\\n  \\n  \\n    Detailed personal ...</td>\n",
       "      <td>4.0 out of 5 stars</td>\n",
       "      <td>\\n\\n\\n\\n\\n\\n\\n\\n\\n\\n  \\n  \\n    \\n  Writing th...</td>\n",
       "    </tr>\n",
       "  </tbody>\n",
       "</table>\n",
       "</div>"
      ],
      "text/plain": [
       "                 Name                                              Title  \\\n",
       "0         Vara Prasad  \\n\\n\\n\\n\\n\\n\\n\\n  \\n  \\n    Camera is not at a...   \n",
       "1     Abhishek BIswas  \\n\\n\\n\\n\\n\\n\\n\\n  \\n  \\n    10 DAYS REVIEW- Th...   \n",
       "2        Abdul Lateef  \\n\\n\\n\\n\\n\\n\\n\\n  \\n  \\n    The Performance Be...   \n",
       "3  Rajendra Singh rao      \\n\\n\\n\\n\\n\\n\\n\\n  \\n    तकनीकी खामी\\n  \\n  \\n   \n",
       "4       Neelabh Sinha  \\n\\n\\n\\n\\n\\n\\n\\n  \\n  \\n    Detailed personal ...   \n",
       "\n",
       "               Rating                                            Comment  \n",
       "0  1.0 out of 5 stars  \\n\\n\\n\\n\\n\\n\\n\\n\\n\\n  \\n  \\n    \\n  After one ...  \n",
       "1  5.0 out of 5 stars  \\n\\n\\n\\n\\n\\n\\n\\n\\n\\n  \\n  \\n    \\n  ### IN SHO...  \n",
       "2  4.0 out of 5 stars  \\n\\n\\n\\n\\n\\n\\n\\n\\n\\n  \\n  \\n    \\n  Feedback a...  \n",
       "3  5.0 out of 5 stars  \\n\\n\\n\\n\\n\\n\\n\\n\\n\\n  \\n    \\n  में रेडमी के इ...  \n",
       "4  4.0 out of 5 stars  \\n\\n\\n\\n\\n\\n\\n\\n\\n\\n  \\n  \\n    \\n  Writing th...  "
      ]
     },
     "execution_count": 1,
     "metadata": {},
     "output_type": "execute_result"
    }
   ],
   "source": [
    "# Perofrming Sentiment Analysis\n",
    "\n",
    "import numpy as np\n",
    "import pandas as pd\n",
    "import nltk\n",
    "import string\n",
    "import re\n",
    "from sklearn.ensemble import RandomForestClassifier\n",
    "from sklearn.metrics import confusion_matrix, accuracy_score, classification_report\n",
    "from sklearn.neighbors import KNeighborsClassifier\n",
    "from xgboost import XGBClassifier\n",
    "from sklearn.linear_model import LogisticRegression\n",
    "from sklearn.naive_bayes import MultinomialNB\n",
    "from sklearn.feature_extraction.text import CountVectorizer\n",
    "from nltk.tokenize import word_tokenize\n",
    "df = pd.read_csv(\"C:/Users/rojit/Desktop/Scrape_AmazonReviews/Scrape_AmazonReviews/output.csv\", dtype = 'str')\n",
    "df.head() "
   ]
  },
  {
   "cell_type": "code",
   "execution_count": 2,
   "metadata": {},
   "outputs": [
    {
     "data": {
      "text/html": [
       "<div>\n",
       "<style scoped>\n",
       "    .dataframe tbody tr th:only-of-type {\n",
       "        vertical-align: middle;\n",
       "    }\n",
       "\n",
       "    .dataframe tbody tr th {\n",
       "        vertical-align: top;\n",
       "    }\n",
       "\n",
       "    .dataframe thead th {\n",
       "        text-align: right;\n",
       "    }\n",
       "</style>\n",
       "<table border=\"1\" class=\"dataframe\">\n",
       "  <thead>\n",
       "    <tr style=\"text-align: right;\">\n",
       "      <th></th>\n",
       "      <th>Name</th>\n",
       "      <th>Title</th>\n",
       "      <th>Rating</th>\n",
       "      <th>Comment</th>\n",
       "    </tr>\n",
       "  </thead>\n",
       "  <tbody>\n",
       "    <tr>\n",
       "      <th>0</th>\n",
       "      <td>Vara Prasad</td>\n",
       "      <td>Camera is not at all working proper</td>\n",
       "      <td>1.0 out of 5 stars</td>\n",
       "      <td>After one month intense use  I am he...</td>\n",
       "    </tr>\n",
       "    <tr>\n",
       "      <th>1</th>\n",
       "      <td>Abhishek BIswas</td>\n",
       "      <td>10 DAYS REVIEW- There are issues(scree...</td>\n",
       "      <td>5.0 out of 5 stars</td>\n",
       "      <td>### IN SHORT ###Overall great phone....</td>\n",
       "    </tr>\n",
       "    <tr>\n",
       "      <th>2</th>\n",
       "      <td>Abdul Lateef</td>\n",
       "      <td>The Performance Beast Indeed</td>\n",
       "      <td>4.0 out of 5 stars</td>\n",
       "      <td>Feedback after using it for 20 daysP...</td>\n",
       "    </tr>\n",
       "    <tr>\n",
       "      <th>3</th>\n",
       "      <td>Rajendra Singh rao</td>\n",
       "      <td>तकनीकी खामी</td>\n",
       "      <td>5.0 out of 5 stars</td>\n",
       "      <td>में रेडमी के इस उपकरण से असंतुष्ट एवम ...</td>\n",
       "    </tr>\n",
       "    <tr>\n",
       "      <th>4</th>\n",
       "      <td>Neelabh Sinha</td>\n",
       "      <td>Detailed personal review after 1 week ...</td>\n",
       "      <td>4.0 out of 5 stars</td>\n",
       "      <td>Writing this review after 7 days of ...</td>\n",
       "    </tr>\n",
       "  </tbody>\n",
       "</table>\n",
       "</div>"
      ],
      "text/plain": [
       "                 Name                                              Title  \\\n",
       "0         Vara Prasad              Camera is not at all working proper     \n",
       "1     Abhishek BIswas          10 DAYS REVIEW- There are issues(scree...   \n",
       "2        Abdul Lateef                     The Performance Beast Indeed     \n",
       "3  Rajendra Singh rao                                    तकनीकी खामी       \n",
       "4       Neelabh Sinha          Detailed personal review after 1 week ...   \n",
       "\n",
       "               Rating                                            Comment  \n",
       "0  1.0 out of 5 stars            After one month intense use  I am he...  \n",
       "1  5.0 out of 5 stars            ### IN SHORT ###Overall great phone....  \n",
       "2  4.0 out of 5 stars            Feedback after using it for 20 daysP...  \n",
       "3  5.0 out of 5 stars          में रेडमी के इस उपकरण से असंतुष्ट एवम ...  \n",
       "4  4.0 out of 5 stars            Writing this review after 7 days of ...  "
      ]
     },
     "execution_count": 2,
     "metadata": {},
     "output_type": "execute_result"
    }
   ],
   "source": [
    "#removing unwanted \\n(next lines)\n",
    "df = df.replace('\\n','', regex=True)\n",
    "df.head()"
   ]
  },
  {
   "cell_type": "code",
   "execution_count": 3,
   "metadata": {},
   "outputs": [
    {
     "name": "stdout",
     "output_type": "stream",
     "text": [
      "<class 'pandas.core.frame.DataFrame'>\n",
      "RangeIndex: 190 entries, 0 to 189\n",
      "Data columns (total 4 columns):\n",
      " #   Column   Non-Null Count  Dtype \n",
      "---  ------   --------------  ----- \n",
      " 0   Name     190 non-null    object\n",
      " 1   Title    190 non-null    object\n",
      " 2   Rating   190 non-null    object\n",
      " 3   Comment  190 non-null    object\n",
      "dtypes: object(4)\n",
      "memory usage: 6.1+ KB\n"
     ]
    }
   ],
   "source": [
    "df.info()"
   ]
  },
  {
   "cell_type": "code",
   "execution_count": 4,
   "metadata": {},
   "outputs": [
    {
     "data": {
      "text/html": [
       "<div>\n",
       "<style scoped>\n",
       "    .dataframe tbody tr th:only-of-type {\n",
       "        vertical-align: middle;\n",
       "    }\n",
       "\n",
       "    .dataframe tbody tr th {\n",
       "        vertical-align: top;\n",
       "    }\n",
       "\n",
       "    .dataframe thead th {\n",
       "        text-align: right;\n",
       "    }\n",
       "</style>\n",
       "<table border=\"1\" class=\"dataframe\">\n",
       "  <thead>\n",
       "    <tr style=\"text-align: right;\">\n",
       "      <th></th>\n",
       "      <th>Rating</th>\n",
       "      <th>Comment</th>\n",
       "    </tr>\n",
       "  </thead>\n",
       "  <tbody>\n",
       "    <tr>\n",
       "      <th>0</th>\n",
       "      <td>1.0 out of 5 stars</td>\n",
       "      <td>After one month intense use  I am he...</td>\n",
       "    </tr>\n",
       "    <tr>\n",
       "      <th>1</th>\n",
       "      <td>5.0 out of 5 stars</td>\n",
       "      <td>### IN SHORT ###Overall great phone....</td>\n",
       "    </tr>\n",
       "    <tr>\n",
       "      <th>2</th>\n",
       "      <td>4.0 out of 5 stars</td>\n",
       "      <td>Feedback after using it for 20 daysP...</td>\n",
       "    </tr>\n",
       "    <tr>\n",
       "      <th>3</th>\n",
       "      <td>5.0 out of 5 stars</td>\n",
       "      <td>में रेडमी के इस उपकरण से असंतुष्ट एवम ...</td>\n",
       "    </tr>\n",
       "    <tr>\n",
       "      <th>4</th>\n",
       "      <td>4.0 out of 5 stars</td>\n",
       "      <td>Writing this review after 7 days of ...</td>\n",
       "    </tr>\n",
       "    <tr>\n",
       "      <th>...</th>\n",
       "      <td>...</td>\n",
       "      <td>...</td>\n",
       "    </tr>\n",
       "    <tr>\n",
       "      <th>185</th>\n",
       "      <td>1.0 out of 5 stars</td>\n",
       "      <td>Battery life is excellent but camera...</td>\n",
       "    </tr>\n",
       "    <tr>\n",
       "      <th>186</th>\n",
       "      <td>1.0 out of 5 stars</td>\n",
       "      <td>Several times mobile get hanged and ...</td>\n",
       "    </tr>\n",
       "    <tr>\n",
       "      <th>187</th>\n",
       "      <td>4.0 out of 5 stars</td>\n",
       "      <td>This is one of the best android cell...</td>\n",
       "    </tr>\n",
       "    <tr>\n",
       "      <th>188</th>\n",
       "      <td>5.0 out of 5 stars</td>\n",
       "      <td>Very satisfied , looks gorgeous, and...</td>\n",
       "    </tr>\n",
       "    <tr>\n",
       "      <th>189</th>\n",
       "      <td>4.0 out of 5 stars</td>\n",
       "      <td>Worth For money. GOOD QUALITY, SLOW ...</td>\n",
       "    </tr>\n",
       "  </tbody>\n",
       "</table>\n",
       "<p>190 rows × 2 columns</p>\n",
       "</div>"
      ],
      "text/plain": [
       "                 Rating                                            Comment\n",
       "0    1.0 out of 5 stars            After one month intense use  I am he...\n",
       "1    5.0 out of 5 stars            ### IN SHORT ###Overall great phone....\n",
       "2    4.0 out of 5 stars            Feedback after using it for 20 daysP...\n",
       "3    5.0 out of 5 stars          में रेडमी के इस उपकरण से असंतुष्ट एवम ...\n",
       "4    4.0 out of 5 stars            Writing this review after 7 days of ...\n",
       "..                  ...                                                ...\n",
       "185  1.0 out of 5 stars            Battery life is excellent but camera...\n",
       "186  1.0 out of 5 stars            Several times mobile get hanged and ...\n",
       "187  4.0 out of 5 stars            This is one of the best android cell...\n",
       "188  5.0 out of 5 stars            Very satisfied , looks gorgeous, and...\n",
       "189  4.0 out of 5 stars            Worth For money. GOOD QUALITY, SLOW ...\n",
       "\n",
       "[190 rows x 2 columns]"
      ]
     },
     "execution_count": 4,
     "metadata": {},
     "output_type": "execute_result"
    }
   ],
   "source": [
    "df.drop(['Name', 'Title'], axis = 1)"
   ]
  },
  {
   "cell_type": "code",
   "execution_count": 5,
   "metadata": {},
   "outputs": [
    {
     "data": {
      "text/html": [
       "<div>\n",
       "<style scoped>\n",
       "    .dataframe tbody tr th:only-of-type {\n",
       "        vertical-align: middle;\n",
       "    }\n",
       "\n",
       "    .dataframe tbody tr th {\n",
       "        vertical-align: top;\n",
       "    }\n",
       "\n",
       "    .dataframe thead th {\n",
       "        text-align: right;\n",
       "    }\n",
       "</style>\n",
       "<table border=\"1\" class=\"dataframe\">\n",
       "  <thead>\n",
       "    <tr style=\"text-align: right;\">\n",
       "      <th></th>\n",
       "      <th>Name</th>\n",
       "      <th>Title</th>\n",
       "      <th>Rating</th>\n",
       "      <th>Comment</th>\n",
       "    </tr>\n",
       "  </thead>\n",
       "  <tbody>\n",
       "    <tr>\n",
       "      <th>0</th>\n",
       "      <td>Vara Prasad</td>\n",
       "      <td>Camera is not at all working proper</td>\n",
       "      <td>1.0 out of 5 stars</td>\n",
       "      <td>After one month intense use  I am he...</td>\n",
       "    </tr>\n",
       "    <tr>\n",
       "      <th>1</th>\n",
       "      <td>Abhishek BIswas</td>\n",
       "      <td>10 DAYS REVIEW- There are issues(scree...</td>\n",
       "      <td>5.0 out of 5 stars</td>\n",
       "      <td>### IN SHORT ###Overall great phone....</td>\n",
       "    </tr>\n",
       "    <tr>\n",
       "      <th>2</th>\n",
       "      <td>Abdul Lateef</td>\n",
       "      <td>The Performance Beast Indeed</td>\n",
       "      <td>4.0 out of 5 stars</td>\n",
       "      <td>Feedback after using it for 20 daysP...</td>\n",
       "    </tr>\n",
       "    <tr>\n",
       "      <th>3</th>\n",
       "      <td>Rajendra Singh rao</td>\n",
       "      <td>तकनीकी खामी</td>\n",
       "      <td>5.0 out of 5 stars</td>\n",
       "      <td>में रेडमी के इस उपकरण से असंतुष्ट एवम ...</td>\n",
       "    </tr>\n",
       "    <tr>\n",
       "      <th>4</th>\n",
       "      <td>Neelabh Sinha</td>\n",
       "      <td>Detailed personal review after 1 week ...</td>\n",
       "      <td>4.0 out of 5 stars</td>\n",
       "      <td>Writing this review after 7 days of ...</td>\n",
       "    </tr>\n",
       "  </tbody>\n",
       "</table>\n",
       "</div>"
      ],
      "text/plain": [
       "                 Name                                              Title  \\\n",
       "0         Vara Prasad              Camera is not at all working proper     \n",
       "1     Abhishek BIswas          10 DAYS REVIEW- There are issues(scree...   \n",
       "2        Abdul Lateef                     The Performance Beast Indeed     \n",
       "3  Rajendra Singh rao                                    तकनीकी खामी       \n",
       "4       Neelabh Sinha          Detailed personal review after 1 week ...   \n",
       "\n",
       "               Rating                                            Comment  \n",
       "0  1.0 out of 5 stars            After one month intense use  I am he...  \n",
       "1  5.0 out of 5 stars            ### IN SHORT ###Overall great phone....  \n",
       "2  4.0 out of 5 stars            Feedback after using it for 20 daysP...  \n",
       "3  5.0 out of 5 stars          में रेडमी के इस उपकरण से असंतुष्ट एवम ...  \n",
       "4  4.0 out of 5 stars            Writing this review after 7 days of ...  "
      ]
     },
     "execution_count": 5,
     "metadata": {},
     "output_type": "execute_result"
    }
   ],
   "source": [
    "df.head()\n"
   ]
  },
  {
   "cell_type": "code",
   "execution_count": 6,
   "metadata": {},
   "outputs": [
    {
     "name": "stdout",
     "output_type": "stream",
     "text": [
      "<class 'pandas.core.frame.DataFrame'>\n",
      "RangeIndex: 190 entries, 0 to 189\n",
      "Data columns (total 4 columns):\n",
      " #   Column   Non-Null Count  Dtype \n",
      "---  ------   --------------  ----- \n",
      " 0   Name     190 non-null    object\n",
      " 1   Title    190 non-null    object\n",
      " 2   Rating   190 non-null    object\n",
      " 3   Comment  190 non-null    object\n",
      "dtypes: object(4)\n",
      "memory usage: 6.1+ KB\n"
     ]
    }
   ],
   "source": [
    "df.info()"
   ]
  },
  {
   "cell_type": "code",
   "execution_count": 7,
   "metadata": {},
   "outputs": [
    {
     "data": {
      "text/html": [
       "<div>\n",
       "<style scoped>\n",
       "    .dataframe tbody tr th:only-of-type {\n",
       "        vertical-align: middle;\n",
       "    }\n",
       "\n",
       "    .dataframe tbody tr th {\n",
       "        vertical-align: top;\n",
       "    }\n",
       "\n",
       "    .dataframe thead th {\n",
       "        text-align: right;\n",
       "    }\n",
       "</style>\n",
       "<table border=\"1\" class=\"dataframe\">\n",
       "  <thead>\n",
       "    <tr style=\"text-align: right;\">\n",
       "      <th></th>\n",
       "      <th>Name</th>\n",
       "      <th>Title</th>\n",
       "      <th>Rating</th>\n",
       "      <th>Comment</th>\n",
       "    </tr>\n",
       "  </thead>\n",
       "  <tbody>\n",
       "    <tr>\n",
       "      <th>0</th>\n",
       "      <td>Vara Prasad</td>\n",
       "      <td>Camera is not at all working proper</td>\n",
       "      <td>1.0 out of 5 stars</td>\n",
       "      <td>after one month intense use  i am he...</td>\n",
       "    </tr>\n",
       "    <tr>\n",
       "      <th>1</th>\n",
       "      <td>Abhishek BIswas</td>\n",
       "      <td>10 DAYS REVIEW- There are issues(scree...</td>\n",
       "      <td>5.0 out of 5 stars</td>\n",
       "      <td>### in short ###overall great phone....</td>\n",
       "    </tr>\n",
       "    <tr>\n",
       "      <th>2</th>\n",
       "      <td>Abdul Lateef</td>\n",
       "      <td>The Performance Beast Indeed</td>\n",
       "      <td>4.0 out of 5 stars</td>\n",
       "      <td>feedback after using it for 20 daysp...</td>\n",
       "    </tr>\n",
       "    <tr>\n",
       "      <th>3</th>\n",
       "      <td>Rajendra Singh rao</td>\n",
       "      <td>तकनीकी खामी</td>\n",
       "      <td>5.0 out of 5 stars</td>\n",
       "      <td>में रेडमी के इस उपकरण से असंतुष्ट एवम ...</td>\n",
       "    </tr>\n",
       "    <tr>\n",
       "      <th>4</th>\n",
       "      <td>Neelabh Sinha</td>\n",
       "      <td>Detailed personal review after 1 week ...</td>\n",
       "      <td>4.0 out of 5 stars</td>\n",
       "      <td>writing this review after 7 days of ...</td>\n",
       "    </tr>\n",
       "  </tbody>\n",
       "</table>\n",
       "</div>"
      ],
      "text/plain": [
       "                 Name                                              Title  \\\n",
       "0         Vara Prasad              Camera is not at all working proper     \n",
       "1     Abhishek BIswas          10 DAYS REVIEW- There are issues(scree...   \n",
       "2        Abdul Lateef                     The Performance Beast Indeed     \n",
       "3  Rajendra Singh rao                                    तकनीकी खामी       \n",
       "4       Neelabh Sinha          Detailed personal review after 1 week ...   \n",
       "\n",
       "               Rating                                            Comment  \n",
       "0  1.0 out of 5 stars            after one month intense use  i am he...  \n",
       "1  5.0 out of 5 stars            ### in short ###overall great phone....  \n",
       "2  4.0 out of 5 stars            feedback after using it for 20 daysp...  \n",
       "3  5.0 out of 5 stars          में रेडमी के इस उपकरण से असंतुष्ट एवम ...  \n",
       "4  4.0 out of 5 stars            writing this review after 7 days of ...  "
      ]
     },
     "execution_count": 7,
     "metadata": {},
     "output_type": "execute_result"
    }
   ],
   "source": [
    "# Converting all text to lowercase\n",
    "df['Comment'] = df['Comment'].str.lower()\n",
    "df.head()"
   ]
  },
  {
   "cell_type": "code",
   "execution_count": 8,
   "metadata": {},
   "outputs": [
    {
     "data": {
      "text/html": [
       "<div>\n",
       "<style scoped>\n",
       "    .dataframe tbody tr th:only-of-type {\n",
       "        vertical-align: middle;\n",
       "    }\n",
       "\n",
       "    .dataframe tbody tr th {\n",
       "        vertical-align: top;\n",
       "    }\n",
       "\n",
       "    .dataframe thead th {\n",
       "        text-align: right;\n",
       "    }\n",
       "</style>\n",
       "<table border=\"1\" class=\"dataframe\">\n",
       "  <thead>\n",
       "    <tr style=\"text-align: right;\">\n",
       "      <th></th>\n",
       "      <th>Name</th>\n",
       "      <th>Title</th>\n",
       "      <th>Rating</th>\n",
       "      <th>Comment</th>\n",
       "    </tr>\n",
       "  </thead>\n",
       "  <tbody>\n",
       "    <tr>\n",
       "      <th>0</th>\n",
       "      <td>Vara Prasad</td>\n",
       "      <td>Camera is not at all working proper</td>\n",
       "      <td>1.0 out of 5 stars</td>\n",
       "      <td>after one month intense use  i am he...</td>\n",
       "    </tr>\n",
       "    <tr>\n",
       "      <th>1</th>\n",
       "      <td>Abhishek BIswas</td>\n",
       "      <td>10 DAYS REVIEW- There are issues(scree...</td>\n",
       "      <td>5.0 out of 5 stars</td>\n",
       "      <td>in short overall great phone i had ...</td>\n",
       "    </tr>\n",
       "    <tr>\n",
       "      <th>2</th>\n",
       "      <td>Abdul Lateef</td>\n",
       "      <td>The Performance Beast Indeed</td>\n",
       "      <td>4.0 out of 5 stars</td>\n",
       "      <td>feedback after using it for  dayspro...</td>\n",
       "    </tr>\n",
       "    <tr>\n",
       "      <th>3</th>\n",
       "      <td>Rajendra Singh rao</td>\n",
       "      <td>तकनीकी खामी</td>\n",
       "      <td>5.0 out of 5 stars</td>\n",
       "      <td>में रेडमी के इस उपकरण से असंतुष्ट एवम ...</td>\n",
       "    </tr>\n",
       "    <tr>\n",
       "      <th>4</th>\n",
       "      <td>Neelabh Sinha</td>\n",
       "      <td>Detailed personal review after 1 week ...</td>\n",
       "      <td>4.0 out of 5 stars</td>\n",
       "      <td>writing this review after  days of u...</td>\n",
       "    </tr>\n",
       "  </tbody>\n",
       "</table>\n",
       "</div>"
      ],
      "text/plain": [
       "                 Name                                              Title  \\\n",
       "0         Vara Prasad              Camera is not at all working proper     \n",
       "1     Abhishek BIswas          10 DAYS REVIEW- There are issues(scree...   \n",
       "2        Abdul Lateef                     The Performance Beast Indeed     \n",
       "3  Rajendra Singh rao                                    तकनीकी खामी       \n",
       "4       Neelabh Sinha          Detailed personal review after 1 week ...   \n",
       "\n",
       "               Rating                                            Comment  \n",
       "0  1.0 out of 5 stars            after one month intense use  i am he...  \n",
       "1  5.0 out of 5 stars             in short overall great phone i had ...  \n",
       "2  4.0 out of 5 stars            feedback after using it for  dayspro...  \n",
       "3  5.0 out of 5 stars          में रेडमी के इस उपकरण से असंतुष्ट एवम ...  \n",
       "4  4.0 out of 5 stars            writing this review after  days of u...  "
      ]
     },
     "execution_count": 8,
     "metadata": {},
     "output_type": "execute_result"
    }
   ],
   "source": [
    "# Removing the punctuation marks\n",
    "\n",
    "def remove_punc(text):\n",
    "    text = \"\".join([char for char in text if char not in string.punctuation])\n",
    "    text = re.sub('[0-9]+', '', text)\n",
    "    return text\n",
    "\n",
    "df['Comment'] = df['Comment'].apply(lambda x: remove_punc(x))\n",
    "df.head()"
   ]
  },
  {
   "cell_type": "code",
   "execution_count": 9,
   "metadata": {},
   "outputs": [
    {
     "data": {
      "text/html": [
       "<div>\n",
       "<style scoped>\n",
       "    .dataframe tbody tr th:only-of-type {\n",
       "        vertical-align: middle;\n",
       "    }\n",
       "\n",
       "    .dataframe tbody tr th {\n",
       "        vertical-align: top;\n",
       "    }\n",
       "\n",
       "    .dataframe thead th {\n",
       "        text-align: right;\n",
       "    }\n",
       "</style>\n",
       "<table border=\"1\" class=\"dataframe\">\n",
       "  <thead>\n",
       "    <tr style=\"text-align: right;\">\n",
       "      <th></th>\n",
       "      <th>Name</th>\n",
       "      <th>Title</th>\n",
       "      <th>Rating</th>\n",
       "      <th>Comment</th>\n",
       "    </tr>\n",
       "  </thead>\n",
       "  <tbody>\n",
       "    <tr>\n",
       "      <th>0</th>\n",
       "      <td>Vara Prasad</td>\n",
       "      <td>Camera is not at all working proper</td>\n",
       "      <td>1.0 out of 5 stars</td>\n",
       "      <td>after one month intense use  i am he...</td>\n",
       "    </tr>\n",
       "    <tr>\n",
       "      <th>1</th>\n",
       "      <td>Abdul Lateef</td>\n",
       "      <td>The Performance Beast Indeed</td>\n",
       "      <td>4.0 out of 5 stars</td>\n",
       "      <td>feedback after using it for  dayspro...</td>\n",
       "    </tr>\n",
       "    <tr>\n",
       "      <th>2</th>\n",
       "      <td>Neelabh Sinha</td>\n",
       "      <td>Detailed personal review after 1 week ...</td>\n",
       "      <td>4.0 out of 5 stars</td>\n",
       "      <td>writing this review after  days of u...</td>\n",
       "    </tr>\n",
       "    <tr>\n",
       "      <th>3</th>\n",
       "      <td>kanchan m.</td>\n",
       "      <td>Redmi note 9pro</td>\n",
       "      <td>5.0 out of 5 stars</td>\n",
       "      <td>just amazingcamera battery and perfo...</td>\n",
       "    </tr>\n",
       "    <tr>\n",
       "      <th>4</th>\n",
       "      <td>Aman Rana</td>\n",
       "      <td>A powerful monster with amazing batter...</td>\n",
       "      <td>4.0 out of 5 stars</td>\n",
       "      <td>i am writing this review after one m...</td>\n",
       "    </tr>\n",
       "  </tbody>\n",
       "</table>\n",
       "</div>"
      ],
      "text/plain": [
       "            Name                                              Title  \\\n",
       "0    Vara Prasad              Camera is not at all working proper     \n",
       "1   Abdul Lateef                     The Performance Beast Indeed     \n",
       "2  Neelabh Sinha          Detailed personal review after 1 week ...   \n",
       "3     kanchan m.                                  Redmi note 9pro     \n",
       "4      Aman Rana          A powerful monster with amazing batter...   \n",
       "\n",
       "               Rating                                            Comment  \n",
       "0  1.0 out of 5 stars            after one month intense use  i am he...  \n",
       "1  4.0 out of 5 stars            feedback after using it for  dayspro...  \n",
       "2  4.0 out of 5 stars            writing this review after  days of u...  \n",
       "3  5.0 out of 5 stars            just amazingcamera battery and perfo...  \n",
       "4  4.0 out of 5 stars            i am writing this review after one m...  "
      ]
     },
     "execution_count": 9,
     "metadata": {},
     "output_type": "execute_result"
    }
   ],
   "source": [
    "#removing non english comments\n",
    "dataset = df[df['Comment'].map(lambda x: x.isascii())]\n",
    "dataset.reset_index(inplace = True)\n",
    "\n",
    "dataset.pop('index')\n",
    "dataset.head()"
   ]
  },
  {
   "cell_type": "code",
   "execution_count": 10,
   "metadata": {},
   "outputs": [
    {
     "name": "stdout",
     "output_type": "stream",
     "text": [
      "<class 'pandas.core.frame.DataFrame'>\n",
      "RangeIndex: 158 entries, 0 to 157\n",
      "Data columns (total 4 columns):\n",
      " #   Column   Non-Null Count  Dtype \n",
      "---  ------   --------------  ----- \n",
      " 0   Name     158 non-null    object\n",
      " 1   Title    158 non-null    object\n",
      " 2   Rating   158 non-null    object\n",
      " 3   Comment  158 non-null    object\n",
      "dtypes: object(4)\n",
      "memory usage: 5.1+ KB\n"
     ]
    }
   ],
   "source": [
    "dataset.info()"
   ]
  },
  {
   "cell_type": "code",
   "execution_count": 11,
   "metadata": {},
   "outputs": [
    {
     "data": {
      "text/plain": [
       "0                  Camera is not at all working proper  \n",
       "1                         The Performance Beast Indeed  \n",
       "2              Detailed personal review after 1 week ...\n",
       "3                                      Redmi note 9pro  \n",
       "4              A powerful monster with amazing batter...\n",
       "                             ...                        \n",
       "153                                     Very bad phone  \n",
       "154            Worse phone ever, not recommended to b...\n",
       "155                                          Worth it!  \n",
       "156                     Redmi note 9 Pro excellent Buy  \n",
       "157            Amazing Experience with Amazon.. Super...\n",
       "Name: Title, Length: 158, dtype: object"
      ]
     },
     "execution_count": 11,
     "metadata": {},
     "output_type": "execute_result"
    }
   ],
   "source": [
    "#deleting unwanter columns\n",
    "dataset.pop('Name')\n",
    "dataset.pop('Title')"
   ]
  },
  {
   "cell_type": "code",
   "execution_count": 12,
   "metadata": {},
   "outputs": [
    {
     "data": {
      "text/html": [
       "<div>\n",
       "<style scoped>\n",
       "    .dataframe tbody tr th:only-of-type {\n",
       "        vertical-align: middle;\n",
       "    }\n",
       "\n",
       "    .dataframe tbody tr th {\n",
       "        vertical-align: top;\n",
       "    }\n",
       "\n",
       "    .dataframe thead th {\n",
       "        text-align: right;\n",
       "    }\n",
       "</style>\n",
       "<table border=\"1\" class=\"dataframe\">\n",
       "  <thead>\n",
       "    <tr style=\"text-align: right;\">\n",
       "      <th></th>\n",
       "      <th>Rating</th>\n",
       "      <th>Comment</th>\n",
       "    </tr>\n",
       "  </thead>\n",
       "  <tbody>\n",
       "    <tr>\n",
       "      <th>0</th>\n",
       "      <td>1.0 out of 5 stars</td>\n",
       "      <td>after one month intense use  i am he...</td>\n",
       "    </tr>\n",
       "    <tr>\n",
       "      <th>1</th>\n",
       "      <td>4.0 out of 5 stars</td>\n",
       "      <td>feedback after using it for  dayspro...</td>\n",
       "    </tr>\n",
       "    <tr>\n",
       "      <th>2</th>\n",
       "      <td>4.0 out of 5 stars</td>\n",
       "      <td>writing this review after  days of u...</td>\n",
       "    </tr>\n",
       "    <tr>\n",
       "      <th>3</th>\n",
       "      <td>5.0 out of 5 stars</td>\n",
       "      <td>just amazingcamera battery and perfo...</td>\n",
       "    </tr>\n",
       "    <tr>\n",
       "      <th>4</th>\n",
       "      <td>4.0 out of 5 stars</td>\n",
       "      <td>i am writing this review after one m...</td>\n",
       "    </tr>\n",
       "  </tbody>\n",
       "</table>\n",
       "</div>"
      ],
      "text/plain": [
       "               Rating                                            Comment\n",
       "0  1.0 out of 5 stars            after one month intense use  i am he...\n",
       "1  4.0 out of 5 stars            feedback after using it for  dayspro...\n",
       "2  4.0 out of 5 stars            writing this review after  days of u...\n",
       "3  5.0 out of 5 stars            just amazingcamera battery and perfo...\n",
       "4  4.0 out of 5 stars            i am writing this review after one m..."
      ]
     },
     "execution_count": 12,
     "metadata": {},
     "output_type": "execute_result"
    }
   ],
   "source": [
    "dataset.head()"
   ]
  },
  {
   "cell_type": "code",
   "execution_count": 13,
   "metadata": {},
   "outputs": [
    {
     "name": "stderr",
     "output_type": "stream",
     "text": [
      "C:\\Users\\rojit\\anaconda3\\lib\\site-packages\\ipykernel_launcher.py:2: SettingWithCopyWarning: \n",
      "A value is trying to be set on a copy of a slice from a DataFrame.\n",
      "Try using .loc[row_indexer,col_indexer] = value instead\n",
      "\n",
      "See the caveats in the documentation: https://pandas.pydata.org/pandas-docs/stable/user_guide/indexing.html#returning-a-view-versus-a-copy\n",
      "  \n",
      "C:\\Users\\rojit\\anaconda3\\lib\\site-packages\\ipykernel_launcher.py:4: SettingWithCopyWarning: \n",
      "A value is trying to be set on a copy of a slice from a DataFrame.\n",
      "Try using .loc[row_indexer,col_indexer] = value instead\n",
      "\n",
      "See the caveats in the documentation: https://pandas.pydata.org/pandas-docs/stable/user_guide/indexing.html#returning-a-view-versus-a-copy\n",
      "  after removing the cwd from sys.path.\n",
      "C:\\Users\\rojit\\anaconda3\\lib\\site-packages\\ipykernel_launcher.py:5: SettingWithCopyWarning: \n",
      "A value is trying to be set on a copy of a slice from a DataFrame.\n",
      "Try using .loc[row_indexer,col_indexer] = value instead\n",
      "\n",
      "See the caveats in the documentation: https://pandas.pydata.org/pandas-docs/stable/user_guide/indexing.html#returning-a-view-versus-a-copy\n",
      "  \"\"\"\n"
     ]
    },
    {
     "data": {
      "text/html": [
       "<div>\n",
       "<style scoped>\n",
       "    .dataframe tbody tr th:only-of-type {\n",
       "        vertical-align: middle;\n",
       "    }\n",
       "\n",
       "    .dataframe tbody tr th {\n",
       "        vertical-align: top;\n",
       "    }\n",
       "\n",
       "    .dataframe thead th {\n",
       "        text-align: right;\n",
       "    }\n",
       "</style>\n",
       "<table border=\"1\" class=\"dataframe\">\n",
       "  <thead>\n",
       "    <tr style=\"text-align: right;\">\n",
       "      <th></th>\n",
       "      <th>Rating</th>\n",
       "      <th>Comment</th>\n",
       "    </tr>\n",
       "  </thead>\n",
       "  <tbody>\n",
       "    <tr>\n",
       "      <th>0</th>\n",
       "      <td>1</td>\n",
       "      <td>after one month intense use  i am he...</td>\n",
       "    </tr>\n",
       "    <tr>\n",
       "      <th>1</th>\n",
       "      <td>4</td>\n",
       "      <td>feedback after using it for  dayspro...</td>\n",
       "    </tr>\n",
       "    <tr>\n",
       "      <th>2</th>\n",
       "      <td>4</td>\n",
       "      <td>writing this review after  days of u...</td>\n",
       "    </tr>\n",
       "    <tr>\n",
       "      <th>3</th>\n",
       "      <td>5</td>\n",
       "      <td>just amazingcamera battery and perfo...</td>\n",
       "    </tr>\n",
       "    <tr>\n",
       "      <th>4</th>\n",
       "      <td>4</td>\n",
       "      <td>i am writing this review after one m...</td>\n",
       "    </tr>\n",
       "  </tbody>\n",
       "</table>\n",
       "</div>"
      ],
      "text/plain": [
       "   Rating                                            Comment\n",
       "0       1            after one month intense use  i am he...\n",
       "1       4            feedback after using it for  dayspro...\n",
       "2       4            writing this review after  days of u...\n",
       "3       5            just amazingcamera battery and perfo...\n",
       "4       4            i am writing this review after one m..."
      ]
     },
     "execution_count": 13,
     "metadata": {},
     "output_type": "execute_result"
    }
   ],
   "source": [
    "# converting rating to integer\n",
    "dataset['Rating'] = dataset['Rating'].str.replace('out of 5 stars','')\n",
    "\n",
    "dataset['Rating'] = pd.to_numeric(dataset['Rating'], errors='coerce').fillna(0)\n",
    "dataset['Rating'] = dataset['Rating'].astype('int64')\n",
    "dataset.head()"
   ]
  },
  {
   "cell_type": "code",
   "execution_count": 14,
   "metadata": {},
   "outputs": [
    {
     "name": "stdout",
     "output_type": "stream",
     "text": [
      "<class 'pandas.core.frame.DataFrame'>\n",
      "RangeIndex: 158 entries, 0 to 157\n",
      "Data columns (total 2 columns):\n",
      " #   Column   Non-Null Count  Dtype \n",
      "---  ------   --------------  ----- \n",
      " 0   Rating   158 non-null    int64 \n",
      " 1   Comment  158 non-null    object\n",
      "dtypes: int64(1), object(1)\n",
      "memory usage: 2.6+ KB\n"
     ]
    }
   ],
   "source": [
    "dataset.info()"
   ]
  },
  {
   "cell_type": "code",
   "execution_count": 15,
   "metadata": {},
   "outputs": [
    {
     "name": "stderr",
     "output_type": "stream",
     "text": [
      "C:\\Users\\rojit\\anaconda3\\lib\\site-packages\\ipykernel_launcher.py:2: SettingWithCopyWarning: \n",
      "A value is trying to be set on a copy of a slice from a DataFrame.\n",
      "Try using .loc[row_indexer,col_indexer] = value instead\n",
      "\n",
      "See the caveats in the documentation: https://pandas.pydata.org/pandas-docs/stable/user_guide/indexing.html#returning-a-view-versus-a-copy\n",
      "  \n"
     ]
    },
    {
     "data": {
      "text/html": [
       "<div>\n",
       "<style scoped>\n",
       "    .dataframe tbody tr th:only-of-type {\n",
       "        vertical-align: middle;\n",
       "    }\n",
       "\n",
       "    .dataframe tbody tr th {\n",
       "        vertical-align: top;\n",
       "    }\n",
       "\n",
       "    .dataframe thead th {\n",
       "        text-align: right;\n",
       "    }\n",
       "</style>\n",
       "<table border=\"1\" class=\"dataframe\">\n",
       "  <thead>\n",
       "    <tr style=\"text-align: right;\">\n",
       "      <th></th>\n",
       "      <th>Rating</th>\n",
       "      <th>Comment</th>\n",
       "    </tr>\n",
       "  </thead>\n",
       "  <tbody>\n",
       "    <tr>\n",
       "      <th>0</th>\n",
       "      <td>1</td>\n",
       "      <td>after one month intense use  i am he...</td>\n",
       "    </tr>\n",
       "    <tr>\n",
       "      <th>1</th>\n",
       "      <td>4</td>\n",
       "      <td>feedback after using it for  dayspro...</td>\n",
       "    </tr>\n",
       "    <tr>\n",
       "      <th>2</th>\n",
       "      <td>4</td>\n",
       "      <td>writing this review after  days of u...</td>\n",
       "    </tr>\n",
       "    <tr>\n",
       "      <th>3</th>\n",
       "      <td>5</td>\n",
       "      <td>just amazingcamera battery and perfo...</td>\n",
       "    </tr>\n",
       "    <tr>\n",
       "      <th>4</th>\n",
       "      <td>4</td>\n",
       "      <td>i am writing this review after one m...</td>\n",
       "    </tr>\n",
       "  </tbody>\n",
       "</table>\n",
       "</div>"
      ],
      "text/plain": [
       "   Rating                                            Comment\n",
       "0       1            after one month intense use  i am he...\n",
       "1       4            feedback after using it for  dayspro...\n",
       "2       4            writing this review after  days of u...\n",
       "3       5            just amazingcamera battery and perfo...\n",
       "4       4            i am writing this review after one m..."
      ]
     },
     "execution_count": 15,
     "metadata": {},
     "output_type": "execute_result"
    }
   ],
   "source": [
    "# remove numbers from comment\n",
    "dataset['Comment'] = dataset['Comment'].str.replace('\\d+', '')\n",
    "dataset.head()"
   ]
  },
  {
   "cell_type": "code",
   "execution_count": 16,
   "metadata": {},
   "outputs": [
    {
     "name": "stderr",
     "output_type": "stream",
     "text": [
      "C:\\Users\\rojit\\anaconda3\\lib\\site-packages\\ipykernel_launcher.py:3: SettingWithCopyWarning: \n",
      "A value is trying to be set on a copy of a slice from a DataFrame.\n",
      "Try using .loc[row_indexer,col_indexer] = value instead\n",
      "\n",
      "See the caveats in the documentation: https://pandas.pydata.org/pandas-docs/stable/user_guide/indexing.html#returning-a-view-versus-a-copy\n",
      "  This is separate from the ipykernel package so we can avoid doing imports until\n"
     ]
    },
    {
     "data": {
      "text/html": [
       "<div>\n",
       "<style scoped>\n",
       "    .dataframe tbody tr th:only-of-type {\n",
       "        vertical-align: middle;\n",
       "    }\n",
       "\n",
       "    .dataframe tbody tr th {\n",
       "        vertical-align: top;\n",
       "    }\n",
       "\n",
       "    .dataframe thead th {\n",
       "        text-align: right;\n",
       "    }\n",
       "</style>\n",
       "<table border=\"1\" class=\"dataframe\">\n",
       "  <thead>\n",
       "    <tr style=\"text-align: right;\">\n",
       "      <th></th>\n",
       "      <th>Rating</th>\n",
       "      <th>Comment</th>\n",
       "    </tr>\n",
       "  </thead>\n",
       "  <tbody>\n",
       "    <tr>\n",
       "      <th>0</th>\n",
       "      <td>1</td>\n",
       "      <td>[after, one, month, intense, use, i, am, here,...</td>\n",
       "    </tr>\n",
       "    <tr>\n",
       "      <th>1</th>\n",
       "      <td>4</td>\n",
       "      <td>[feedback, after, using, it, for, dayspros, so...</td>\n",
       "    </tr>\n",
       "    <tr>\n",
       "      <th>2</th>\n",
       "      <td>4</td>\n",
       "      <td>[writing, this, review, after, days, of, usage...</td>\n",
       "    </tr>\n",
       "    <tr>\n",
       "      <th>3</th>\n",
       "      <td>5</td>\n",
       "      <td>[just, amazingcamera, battery, and, performanc...</td>\n",
       "    </tr>\n",
       "    <tr>\n",
       "      <th>4</th>\n",
       "      <td>4</td>\n",
       "      <td>[i, am, writing, this, review, after, one, mon...</td>\n",
       "    </tr>\n",
       "  </tbody>\n",
       "</table>\n",
       "</div>"
      ],
      "text/plain": [
       "   Rating                                            Comment\n",
       "0       1  [after, one, month, intense, use, i, am, here,...\n",
       "1       4  [feedback, after, using, it, for, dayspros, so...\n",
       "2       4  [writing, this, review, after, days, of, usage...\n",
       "3       5  [just, amazingcamera, battery, and, performanc...\n",
       "4       4  [i, am, writing, this, review, after, one, mon..."
      ]
     },
     "execution_count": 16,
     "metadata": {},
     "output_type": "execute_result"
    }
   ],
   "source": [
    "# Tokenizing the words (Separating words from a sentence)\n",
    "comments = dataset['Comment']\n",
    "dataset['Comment'] = comments.apply(word_tokenize)\n",
    "dataset.head()"
   ]
  },
  {
   "cell_type": "code",
   "execution_count": 17,
   "metadata": {},
   "outputs": [
    {
     "name": "stderr",
     "output_type": "stream",
     "text": [
      "C:\\Users\\rojit\\anaconda3\\lib\\site-packages\\ipykernel_launcher.py:8: SettingWithCopyWarning: \n",
      "A value is trying to be set on a copy of a slice from a DataFrame.\n",
      "Try using .loc[row_indexer,col_indexer] = value instead\n",
      "\n",
      "See the caveats in the documentation: https://pandas.pydata.org/pandas-docs/stable/user_guide/indexing.html#returning-a-view-versus-a-copy\n",
      "  \n"
     ]
    },
    {
     "data": {
      "text/html": [
       "<div>\n",
       "<style scoped>\n",
       "    .dataframe tbody tr th:only-of-type {\n",
       "        vertical-align: middle;\n",
       "    }\n",
       "\n",
       "    .dataframe tbody tr th {\n",
       "        vertical-align: top;\n",
       "    }\n",
       "\n",
       "    .dataframe thead th {\n",
       "        text-align: right;\n",
       "    }\n",
       "</style>\n",
       "<table border=\"1\" class=\"dataframe\">\n",
       "  <thead>\n",
       "    <tr style=\"text-align: right;\">\n",
       "      <th></th>\n",
       "      <th>Rating</th>\n",
       "      <th>Comment</th>\n",
       "    </tr>\n",
       "  </thead>\n",
       "  <tbody>\n",
       "    <tr>\n",
       "      <th>0</th>\n",
       "      <td>1</td>\n",
       "      <td>[after, one, month, intense, use, i, am, here,...</td>\n",
       "    </tr>\n",
       "    <tr>\n",
       "      <th>1</th>\n",
       "      <td>4</td>\n",
       "      <td>[feedback, after, using, it, for, dayspros, so...</td>\n",
       "    </tr>\n",
       "    <tr>\n",
       "      <th>2</th>\n",
       "      <td>4</td>\n",
       "      <td>[writing, this, review, after, day, of, usageg...</td>\n",
       "    </tr>\n",
       "    <tr>\n",
       "      <th>3</th>\n",
       "      <td>5</td>\n",
       "      <td>[just, amazingcamera, battery, and, performanc...</td>\n",
       "    </tr>\n",
       "    <tr>\n",
       "      <th>4</th>\n",
       "      <td>4</td>\n",
       "      <td>[i, am, writing, this, review, after, one, mon...</td>\n",
       "    </tr>\n",
       "  </tbody>\n",
       "</table>\n",
       "</div>"
      ],
      "text/plain": [
       "   Rating                                            Comment\n",
       "0       1  [after, one, month, intense, use, i, am, here,...\n",
       "1       4  [feedback, after, using, it, for, dayspros, so...\n",
       "2       4  [writing, this, review, after, day, of, usageg...\n",
       "3       5  [just, amazingcamera, battery, and, performanc...\n",
       "4       4  [i, am, writing, this, review, after, one, mon..."
      ]
     },
     "execution_count": 17,
     "metadata": {},
     "output_type": "execute_result"
    }
   ],
   "source": [
    "#performing lemmatization\n",
    "wn = nltk.WordNetLemmatizer()\n",
    "\n",
    "def lemmatizer(text):\n",
    "    text = [wn.lemmatize(word) for word in text]\n",
    "    return text\n",
    "\n",
    "dataset['Comment'] = dataset['Comment'].apply(lambda x: lemmatizer(x))\n",
    "dataset.head()"
   ]
  },
  {
   "cell_type": "code",
   "execution_count": 18,
   "metadata": {},
   "outputs": [
    {
     "name": "stdout",
     "output_type": "stream",
     "text": [
      "<class 'pandas.core.frame.DataFrame'>\n",
      "RangeIndex: 158 entries, 0 to 157\n",
      "Data columns (total 2 columns):\n",
      " #   Column   Non-Null Count  Dtype \n",
      "---  ------   --------------  ----- \n",
      " 0   Rating   158 non-null    int64 \n",
      " 1   Comment  158 non-null    object\n",
      "dtypes: int64(1), object(1)\n",
      "memory usage: 2.6+ KB\n"
     ]
    }
   ],
   "source": [
    "dataset.info()"
   ]
  },
  {
   "cell_type": "code",
   "execution_count": 19,
   "metadata": {},
   "outputs": [
    {
     "data": {
      "text/plain": [
       "Rating     0\n",
       "Comment    0\n",
       "dtype: int64"
      ]
     },
     "execution_count": 19,
     "metadata": {},
     "output_type": "execute_result"
    }
   ],
   "source": [
    "null_counts = dataset.isnull().sum()\n",
    "null_counts"
   ]
  },
  {
   "cell_type": "code",
   "execution_count": 20,
   "metadata": {},
   "outputs": [
    {
     "name": "stdout",
     "output_type": "stream",
     "text": [
      "Corpus ['after one month intense use i am here to submit feedbackthis is very worst worst worst model phone in redmi series because with in day after purchase i met the problem with this i thought it may resolved automatically while updating phone but it doe happened the main problem in this phone that what ever the xiomi promoted in this phone like quadra camera is not at all opening while opening saying that opening in camera is error please restart so many time restarted eventhough no response and phone also strucking while usingi request all of you to kindly not to buy this phone', 'feedback after using it for dayspros solid sturdy and robust materialpremium look and feelsolid battery performance no matter what you do it will last for a day and a halffull speed without any lag thanks to qualcomm snapdragon miui ha the best interface eververy good camera especially night modecrisp hd display with a cool dot notchside mounted fingerprint is awesomecons is a bit bulky and heavy with tempered glass and back cover it is almost gramsthe color is not black or grey but is actually blueno quick chargingone of the best paisa vasool mobile phone in this segment also need to mention mi phone have good resale value compared to other phone', 'writing this review after day of usagegiving star because of better battery life expectation and also that miui need to be cleaner using for the first time wa a stock android user since long other spec of the phone are finedelivery experience great by amazon couldnt recieve it quicker with all the lockdown thats in place nationwide recieved within day or orderingbattery life average i am using the phone extensively with regular music and light apps turn out that the battery last day i expected morecamera good you might find picture getting hazy but i recieved a software update day before after day of usage and since then the picture quality ha been good picture quality ha been good in all camera modesdisplay good better than expectedfingerprint sensor take a little time for unlocked screen to appear after you put your finger could have been better no problem with the location of the fingerprint sensorheating issue no heating issue in phone whatsoever charger get heated after hour of charging or soperformance good overall no lag experiencedcharging speed i could charge my phone from in around hour minutesmiui a lot of useless apps would be preinstalled half of them cant be uninstalled mi browser is bad i would suggest to go to appsdefault apps and change few of those sliding up from home screen open up the mi browser you can easily disable from settingsnote please disable the dynamic wallpaper carousel it eats up a lot of battery by default it activatedworks well after the above cleaning', 'just amazingcamera battery and performance top of the mark', 'i am writing this review after one month usageit is fully user experienced and unbiased reviewdisplaybatterycharging fast but not acceptable in build quality just amazingcamera not up to the mark ie below average at this price rangevideo qualityfingerprint scannerspeaker qualitycall quality design processor it is just amazing there is no heating issue an pubg run very smoothly in fps after applying gfx tool literally very good processor under kheating issue no heating issue at allconsweak network reception no amoled display heavy to handle with single hand gyroscope is not well calibrated by company whenever i try to play pubg it move automatically no fast charging some software bug which can be fixed by a software update poor picture qualitylow quality photographsa unknown issue during pubg mobile gameplay is noticed high ping problem in this device evertime even in good network area i dont know it a phone problem or pubg problem but yes i notice it every time while playing online game like pubg and freefire', 'it hang the camera doe not open in the first instance always prompt to restart the mobile when opening the camera battery doe not last long a expected need to be charged everyday if it full charge in the morning it need to be charge by pm without any game or any heavy usage the screen go blank after attending any call seems like i got some defective piece and could not return the same coz of lockdown and still have not been able to show it to any service center seems like i have wasted my hard earned money', 'hanging problemsbattery backup very badalready inform amozon no responseworst product i ever headproduct fake product delivered by amozon imei number not match with product', 'mi note proi used this phone for approximately day and here my reviewthe side mounted fingerprint sensor is fast i usually dont prefer indisplay fingerprint in budget segment phonesps they are not very fast given the price the spec are literally awesome the camera module is innovative performance is good battery backup is also excellent', 'great device in budget we should not expect much in k rest of the thing are perfectly working except fingerprint reader which is misbehaving once in a while negligible i hope mi will resolve this with updatescamera work great except in low lightai is smoothing the image quality while processinbattery it the usp of the device working perfectlygaming pubg in balanced ultra work great if you have a good speed of internet on your deviceui it good but not the best lot of third party apps need to be uninstall showing belly dancing video in preferred resultsi dont know why smhconnectivity perfect way better than my honor lite earlier i wa getting mbps and now it mbps on the same wifi call are good tooconclusion if you are on budget of k max just go for it you wont get a better device in that budget', 'ive taken this mobile by seeing product review on youtube but device totally different from review too much heat and hanging battery drainage are the problem o face now im truly unsatisfied with the product delivery is ok', 'note pro is worst phone launched by mi till now i bought this phone by trusting mi brand a i have used redmi note earlier which is a superb phone by mibut in this redmi note pro xiaomi is making fool customer by by just changing the location of finger sensor at a wrong place sidewaysthey say that camera is mp but when you take photo there is nothing like mptouch screen is too slowbattery is mha but it is draining too fast nothing like mhaphone is too heavy to handle while you do multiple task while using the phonejust a waste of money', 'worst camera', 'dont buy gb version bcz too slow and if u use or application mobile stuck and some time restart automaticallycamera picture quality ok but night time not good and camera app response also slow other wise mobile nyc battery backup and big screen all super expect camera response and software hanging problem', 'because redmi note pro doesnt proper working', 'defective item it automatically restarts', 'the way youtube took u by storm by claiming it to have a solid and premium build quality i wa amazed but soon after i ordered and received the product i realized that the screen ha a gradiant grey shading from the bottom the glass quality doesnt look like the one we have in premium phone i wonder if corning gorilla glass is also made a per grade and different rate to sum it up you get a considerable product better go for samsung m and thank me later', 'the front camera size on the screen is too big mi should work on this it is the issue otherwise good phone comparing to other brand', 'xiaomi phone quality is detorerating gradually after owning so many phone and suggesting others for their quality but recently i am encountering issue in brand new phone mainly the proximity sensor issue is there display go off when call someone or get call and it stay off entire duration of the call it annoying and frustrating', 'very bad experienceso much hanging phone heating issue also bad colour effect display', 'touch problem and battery problem', 'this phone promise lot but give very lessmost importantly mp option in camera modesi didnt find much difference in normal mode and mp mode sometimes photo taken by mp are noisy mp mode doesnt work well when strong ambient light presentother issue is google assistant i tried many time to wake assistant with command ok google but it doesnt work only ive set up everything in assistant which is essential to use voice assistance but no useplease dont feel heart broken so far these two are the only drawback i found but i must say battery is just wow with one full charge phone last almost day with normal use i wa surprised camera also work well for k mobile except mp mode maybe due to some software issue otherwise phone run quite smoothly load game apps very quickly', 'i am disappointed with redmi note pro product i bought this phone on dated may today the screen suddenly stopped working and phone automatically going to off voice not clear during the phone call the phone doesnt get switch on after the screen display went off this is a ridiculous product brand who only offer reasonable priced phone but quality is so poor and service are worst i am not able to contact their team the product is still under warranty i an suggestion no one purchase this product', 'awesome phonecamera is goodbattery backup is gooddisplay quality goodand performance a per processor is awesome a mi is best in that', 'superb phone awesome camera battery processor speed', 'the phone restarts automatically if you call more than min', 'display size getup awesome battery performance charging time sound quality are also good no heating issue i am unhappy for not having optical zoom of mp camera at last thnx amazon for quick delivered thanks redmi for to bring a good quality mobile redmi note pro to the market', 'awesome phonethis is the very comfortable phoneprice is no very costlymilove', 'awesome build quality and design camera is not best just decent fingerprint censor is amazing display is good for offline content not that good for online content like netflix no hdr battery is awesome took hr mnts for full charge gaming is good but note pro is better in gaming audio is awesome delivery wa fantastic', 'i just purchased this phone after the lockdown but thats my worst decision can you believe a new phone hanging like a year old phone icon of home screen disappear suddenly camera is just like a k priced smartphone take around hour for full charge worst product by redmi till now it my first and last redmi phone', 'writing this after a three day useto start with uniqueness the quad camera setup navic side mounted fingerprint sensor haptic feedback glassy finish all the factor make the phone pretty coolcamera the phone produce very good image using the sensorsdepth macro wide according to customisation along with the primary mp shooter the image produced will be highly dependent on factor like light exposure camera handling mode selected etc video recording is available with eis and fps there is an option to record video with movie scope overall navic the isro developed positioning system add more accuracy while navigating i really liked it and it our country technology design the phone is packed with almost all sensor no issue the glassy finish front and back give the phone a premium look come with gorila glass protection in layer dedicated external memory slot no need to buy a gb variant fearing the limited storage can expand storage upto gb network reception i witnessed a commendable hike in download speed so the nw reception is very good miui yes there were some preinstalled stuff which can be uninstalled easily about the annoying ad and notification they could be disabled with some settingsavailable on many internet blog there where some minute bug which id expect to be sorted out with the next ui update notch the user can manage how the punch hole cam could appear according to his desire i dont like to hide it a it look good for me processor ram the qualcomm snapdragon g with ghz clock speed make the phone more reliable and very smooth the ram wa able to retain the cache of previously opened apps for a noticeable amount of time so switching between the apps now and then is not an issue the processor and ram pull it off easily speaker earpiece both sound output are commendable type c usb mm headphone jack type c cable along with w charger charge the phone within hour from to without any heating issue w adapter can obviously charge the device even faster but it not provided in the box battery with a whopping mah battery a moderate user can use the device for more than day with one time full charging notification light it wa nice to see the notification light available after stuffing so many sensor they did not forget to add that appreciate that gaming experience im not a mobile gamer so refresh rate is not a concern to me still the qualcomm snapdragon g processor can easily handle game like pubg or cod with hdr graphicsi havent faced any kind of heating issue nor lag while using the cameraoverall it a very good phone for this price range it is packed with commendable feature and no compromise with the sensor', 'i am giving honest review after month of useageif you are very specifically looking for gamming dont go for it better afford realme if you want for normal office work or you are college going student then it one of the best choicevalue of money is perfect in all aspect except the camera quality you have to compramise for camera a bit for it other featuresi personally like big display so display wa exelent for meby mistake it fell from my hand from around foot height while calling but there wa not a single mark or display issue so protection is really niceother feature like ir blaster alexa fingerprint sensor face unlock processor look are awesomeoverall it worth going for at this price range', 'ok so this is a honest review plz dont go for the gb ram this phone is probably built for gb ram coz it slow i got the gb actually wrong product color a i ordered black i got blue the camera is actually amazing but the phone is reeeeeeeallly sloooow after unlocking the apps load so slow it annoying and really sad that such a good spec phone suck so much so id say dont go for the gb one and i havent used the gb variant so i donno if it slow too but mine is really irritating not happy but the camera is bomb and that i cant deny fingerprint reader is also fine not a good a realme sensor but it fine', 'i hate this productphone battery not working properly and heating and i am trying to return this product but this is not returning saying to install a amazon checkup app and that app is also not working it a unfair mean of marketing amazon is doing fraud dont buy mobile from amazon', 'pro good camera looking stylish best harware quality delivered on time great service from amazoncons few mi apps are irritating a they cant uninstall camera can be damaged while putting mobile at camera side to protect camera you have to use mobile cover or external camera protector', 'after one month of usepros battery life designlook fingerprint sensor face unlock screen touch sound quality noise cancellationcons fast changing not that much good a of other in the same price range camera camera performance is average gaming it not a gaming phone dont buy if you are a hard core gamer in box charger the charge come with this phone is really of poor quality usb cable carcks at connection point within a month', 'the only thing i like about the phone is the side mounted fingerprint sensor it even faster than my samsung tab senow come the bad part a ha been pointed out by other customer internet download speed is very slow never reach mbps my year old lenovo downloads the same file at mbps using the same service provider at the same time im not much into mobile photography but the picture quality is horrible it becomes better with camera apps from play storewhich doesnt give me control over the three other non primary lens this is my first time using an mi phone and the ad are annoying af cant turn them off too the gesture control are very uncomfortable they can learn this from samsung i dont know if this ha happened to anyone but i actually ordered the black variant but wa sent the blue one it written a interstellar black on the box but inside wa the blue oneoverall im disappointed i gave it to my sister and ill be buying another phone', 'i had got this phone for my parent i ended up using it for a while and i find it to be worth every penny i have been a oneplus user for past year so my expectation bar is very high yet making this my daily driver wa not a big disappointmentbattery day with average usage half a day with heavy usagescreen quality camera build quality fast charger it not really fast at allsmoothness fingerprint reader comfort', 'i have ordered redmi note pro but received headphone after that they replaced my product than mobile gps navigation not working and alexa software not working i request for refund they told they will send inspection boy to check they given slot am to pm on th march on th a afternoon service boy call at pm and asking tell mobile problem i told them to come to place and check mobile in phone call i cant explain service boy isnt at ready to come to placemy request is i have taken half day leave for this inspection this is the service they have giving u please think before going to book amazon i have called amazon tollfree number after explaining all the thing they have disconnected my call what kind of service your giving your trusted customer when they have done mistake they will immediately resolve the problem when i requested theyre not bother customer i have wasted my money at end buying from amazon anyway im going to file in consumer court thanks amazon overall experience', 'great mobile and best resultscamera star performance starpremium look feel like high end phoneperformance of battery also is greatback side camera setup look is fabulous something different from current quad camers vertical setup in all phone which is really boring oneonly con i didnt like is annoying ad again and again while using any applicationsoverall great mobile best in this range must buy in this range', 'just two suggestion for micamera app processing is slow once we click photo in macro mode it take second to give the clear picture which is worst thingthere are so many review on hardware and performance so i am not writing about thatplease reduce the default apps of mi allow user to have apps on his preferenceand also dolby atmos is standard now a day on all samsung so it would be great if u add that in ur next phone', 'writing review after daysloved the screenbest fingerprint scannergood battery backupgood refresh ratecamera is goodno lag at all in daily use am not gamergood to watch moviesconsi think ir remote have some issue not satisfied bad one doesnt function sometimesscreen size is too bigaudio could have been much betteroverpriced littlebought at in amazon festival salebest price could be around kmi should think on pricebut satisfied a there is no lag while multitasking and good movie watching experience', 'this phone is awesome it come with best mi camera and very well charging smooth graphic powerful ram lot of storage and unbelievable feature in this price range it best other than any brand this phone is better than costly phone which is come in k k price so dont thik about performance just go for it you will get shocked by mi i want to say mibest', 'just paid marketing nothing special camera quality is very cheap user interface is so cheap feel typical chinese toy very cheapscreen get off many time', 'even though it called interstellar black it look bluethe display is vivid vibrant colourfulside mounted fingerprint reader is pretty fastcamera quality is good and click photo quicklythe glass back is great to look and hold but it a fingerprint magnetir blaster work great the tv guide option in the mi remote app is helpfulthe power buttonfingerprint reader is a bit hard to press but there option to wake screen on lift or double tap to wakethe phone is thick wide heavy and tall if youre looking for a compact phone look elsewhere compare dimension with other phone it hard to use it single handedly', 'i got faulty prodctand amazon wa not responding to me', 'do not buy this phonescreen bleeding issuesphone keep on hanging', 'just go for it the battery life is great even after heavy gaming there is no heating issue when on call something which i faced in samsung m the finger print scanner is quick enough redmi provided a great back cover with anti dust plug that too in black colour a my handset is interstellar black snapdragon g is far far better in performance than exynos the phone come with miui out of box which provides some of the best feature such a dark mode in all the apps the camera is great a expected the audio output is loud enoughi could name many more thing but it better one experience the awesomeness of this phone themselves', 'using this phone since a year a good all rounder mid ranger after disabling the ad option the phone is super usable the main problem is the bad software update xiomi is doing the quantity over quality thing my phone sometimes automatically restarts when i use it which only happened time in a year even after update the issue is still there also the call receiver had issue sometimes i dont think the company even consider thing like this if you believe xiomi will fix this then buy it', 'i purchased this phone after watching many reviewsplease see my review after three month of usagepros performance the performance is very good with smooth graphic no lag even after running multiple application battery life battery backup is decent you get day for moderate usage and day for heavy use camera performance the camera give excellent picture under adequate lighting condition the selfie camera is better than i expected it give adequate detail in this price range the macro camera is also really good please see the sample picture the camera come with pro mode which is great for enthusiast the phone ram management is pretty decent and it never reached maximum even with multiple application running video playing the screen is crisp and big enough so watching video is a breeze call clarity the call volume and voice clarity are pretty good i never received complaint from other people about my voice there is no distortion in call clarity using the headset i use a sennheiser cx s headset sound output even though there is no dolby atmos the sound output is pretty decent when i used it with my headset phone design the design is awesome the phone look premium and got a decent build quality phone ui even though i prefer a stock android experience the miui o give you good usability thankfully there is an app drawer available the phone doe not get heated up even if you use it for a longer durationoverall this phone give you great value for moneycons miui come with a lot of bloatware you can remove the bloatware for better performance and an adfree experience there are many youtube video available for this the headphone volume is low in comparison to other phone for watching video and music you can change the region to improve the volume i changed it to st helena the phone is a bit heavy but you will get adjusted soon', 'very bad phone camera is third class and amazon is not even accepting returnvery poor service from amazon highly disappointed', 'pro if u r looking for a budget gaming phonethis is a perfect choocepubg run in this phone smoothly and there are very few frame dropsit give a battery backup of at least hour while playing pubg nonstopfingerprint sensor is very fastcons the miui isnt that goodit ha bug and usually lag in normal usethe face unlock ha big delay and there are lot of pre installed apps which are uselessi guess this can be fixed after an updatefor gaming camera fingerprint face unlock display battery operating system sound quality', 'i have ordered redmi note pro it arrived todayafter sometime mic didnt work properly i wa not able to hear any voice during the callvoice recorder is not also functioningi switched off the phone and it went back to normal i didnt know what just happeniam hoping that this issue is not affecting me in the futureif this issue continue i will return the product and refund my cash', 'good batter backupgood cameragood mob designno any issue', 'phone started slowing down after few day of purchase even though not even gb of storage wa usedfingerprint scanner is slow and you have to touch it to time to unlock phonebattery life is not great a you have to charge phone in the eveningit also ha issue in picking up network while other phone wa giving very good internet speed this phone wa not even having bar of network at same place and youtube wa slowdisplay u le than average a it lack brightness so face issue in sunlight although is fhdcamera is average or below averageoverall waste of money could have got same performance with to k range phonei think it ha bad hardware with quality issue of component', 'overall phone is good in all factor the one i ordered is interstellar black and delivered aurora blue also seller say it last peace dont buy from darshit electronic product is good but not delivering actual color', 'latest issue if after making a call i access different apps then getting back to call screen is not possible to cut the call i have to ask the other person to cut the call or restart the phonedisappointed in this purchase nothing can be said to be really good my suggestion is go for a different phone average phone with average performance internet connectivity is pathetic my previous phone wa realme pro i found that superior to this one in everything but the battery backupan update on my previous review this phone ha a glance app which is a big pain for me a i am not able to switch it off even if i switch it off it turn itself back on also securitywise this app or something else make it very easy for my yearold to access youtube and watch very concerning video if a child can do that an adult can do worse be aware', 'dont buy this mobile in amazon worst customer care service amazon hold it is to note that amazon is trying to evade my issue of returning my supposedly new mobileredmi note pro which is hanging even before my first use but the customer care service is asking me to hard reset the mobile i have difference in memory space occupied before and after resettingthe performance is disappointing due to the delivery of a faulty device i have complete video recording of this hanging issueamazon is fully responsible for the replacement and any evasive reply or dilly dalying by your so called customer care when truely you are least concerned will not resolve my problem pl note that i will not leave this lightly one of your customer care technician is giving me a fraudulent information that my numberaddress and email is not registered with amazon and ha hanged up the call i also have all the call recording with me is this how you have a irresponsible customer care personnel in your organisationhence take back the defective piece which is a crap sold in the name of great indian sale and refund the amount immediately', 'ok product not really nice a per my experience but yes only good feature is pubg run smoothly and talking about battery it drain very fast really very fast', 'camera is not great my old one plus t camera work better than this one ui is also not good it the same a my old mi note ui just the ad frequency ha reduced but it still isnt it a bit heavy and thick also because of the large battery size camera is too much popped out so without a cover you wont be able to use it considering the price it okay but if you can spend a little more then go for samsung m series that work better than this in every aspecti have m which is an year older but still function better than this', 'super camera battery sound amazing very much', 'bought redmi note pro interstellar black in st sale using it extensively read my review if you are planning to buy oneedit updating review for using more than a month facing some strange battery drain issue battery is not lasting even for a day once fully charged it automatically get decreased by without doing anything for daily usage screen size feel too big not easily manageable also device is bulkypros mp quad camera with samsung gm sensor capture amazing picture both outdoor a well a indoor even in low light condition photo look cool selfie look more natural not over beautification like oppovivo inch fhd dot display look good dedicated memory card slot mah lipolymer battery it easily last for more than a day with average usage with w charger it take le than hr for full charge pi splashproof nanocoating notification led ir blasternavic for navigation but havent noticed any difference than gpscons hz display v hz display of realme difference is noticable while playing game for pubg rnpro frame rate setting limited to ultra on other hand realme support up to extremein short gaming is better on realme with mediatek gtfinal verdict if you want device with better battery performance redmi note pro is gold choice for better display gaming experience get realme will edit review after using few more day', 'the phone is not supporting any kind of sd card and always asking to format the sd card the medias and file of external storage keep disappearing automatically without permission the picture clicked take a lot of time in processing and couldnt be viewed instantly', 'not goodhang and some time show error many time in every appsome feature problemover all disappointing', 'been using for a month the issue i found is with the software when you switch from different app potrait to landscape view i can find a black triangular spot on the lower part of the screen when in landscape view also the headphone mode seems to stuck sometimes i have no headphone connected and it show headphone is connected with no sound restart fix this issue most possibly software issue and i hope this would get fixed on the next updateoverall it a great phone love the screen size battery camera and processor is not that great but okay it an allround phone and worth the price', 'the phone is overall good but these are the concern screen is little saggy even touch is not a better a other mi phone fingerprint reader is good but that too not perfect battery is excellent it cover about whole day selfie camera is good and mp rear camera is excellent vowifi is one of the best feature of phone', 'very bad quality heating charge very much', 'incoming receivervoice call ha corrupted with in day of purchase and couldnt talk or take the call without keeping on speaker felt very upset even though not using the phone for much time but the hardware got damagedreally with much eager i have waited and i have purchased but with in time lost the interest on this product and some how hanging is there in the mobile please make sure of purchasing of this product and im an mi fan but not satisfied with this product', 'im giving this star because of the camera performance im not a gaming fan only bought this mobile for battery n camera purpose but camera disappoint a lot they photo look gud until you zoom in there is no detailing what so ever it ha all the censor n may work gud the only problem is that the software didnt work properly this may be resolved in future update so please consider this before buying im waiting for a stable gcam support for this note pro will update my review if the problem get fixed', 'the same cellphone i booked at time of first launch order wa cancelled by amazon after month the same model is online with r additional price and no gst about cellphone while camera screen display and battery is excellent the speaker quality is very very ordinary with or without headphone i am unable to enjoy good music', 'star because of very annoying add otherwise star phone great online playing experiencedetails wise reviewamazon delivery one day delivery without any extra chargecamera quad setup is dazzling specially pro hdr modedisplay full high definition plus curved screencharging watt chargerfinger print fast a high range flagship phonesoverall more then satisfied with phone just one thing please add from phone mi', 'delivery wa a usual within day of order but i am sorry to say that i found the product wa unboxed brfore i received it technically it should be counted in refurbished catagory although there wa no fault with the phone the back panel protection film wa removed presence of dust every where around the camera module the spot of back panel peotection film wa present therefore it can be guessed very easily that there wa a protection at back panel and that ha been removed before that prof it wa unboxed and also the prsence of dust particle all over the phone which can be seen with the help of torch light i didnt expect to receive an unboxed refurbished product yet the phone wa in good shape no dent or scratch wa present and it still running good phone had no peoblem thats why i didnt try to replace it my advice is for other buyer that please check the phone under bright light for physical condition check up after you receive it thanks', 'redmi is well known for it battery which is really good in this phone too but the camera ha disappointed me a lot the mp camera doesnt capture picture of that quality front camera is also not so well it only ok ok type quality although the nm processor is really great and it make the phone too fast there is always a problem with redmi that it doesnt provide that fast charger if you go for realme it provides watt charger in the box at the same range however now redmi too ha launched poco x with watt charger along with the same spec a of redmi note pro all other feature are great', 'this is after day light usagephone is good look awesome bit slower than i expectedas i heard from many youtubers the issue of screen bleedingit wa there but it wa fixed after an mb update that u get instantly after setting up the phonefingerprint scanner is not that fast but it doe the job percent of the timethe charging speed is quite good if u r moving from a watt chargerthe add in the miui can be disabled and it too easycamera quality is extremely awesomehere is what no one tell the tpu case provided fit good in the phone and perfectly cover the camera bumpnoye that this review is of two day usage and i will update my review after month of usage', 'smartphone is totally awesomebut the reason ive given star is that helo app mi community cleanmaster wa preinstalled in this device which wa banned by indian governmenti uninstalled mi community helo app but there is no option to uninstall cleanmasterhope xiaomi will remove this through an update', 'overall good budget phonepros display color is good camera quality is ok front camera is also good fast fingerprint unlockcons charging time hr face unclock doesnt work good screen referesh rate is very bad mp camera hang while opening clearity is also not good', 'i bought in first sale all performance is good an betteri have issue like hung restart abruptly camera app doesnt work oftenawaiting for fix', 'camera goodbattery day with game and browsing and allsound goodcharging time normalremote sensor not for all device videocon dh not support with mevideo goodcarry the phone easy while using backcoverfingerprint good fastfeatures call record store all record in one folder finding some number can be a harddisplay goodmultitask splitscreen ver goodgame turbo very good we can use facebook and whatsapp while playing game in my case while play ball pool', 'nice onesometimes trouble in calling mick and such it will resolve after rebootingnot much good in display qualityunwanted appsunwanted advertisementsometimes feel it a sponsered phone by this agency why thatgood in sizesatisfied in gamesover saturated photosnot much good in micro photosbeautiful design and stylish', 'really it wa a great product from xiaomi side finger print sensor is good very quick respondqualcomm snapdragon it wa good enough for gaming especially pubg no lag or ping issue graphic are good battery mah we can play pubg continuously more than hour but quick charge is not good a we thought it time for full charge about minute camera is good i have not interested about cam i interested at gaming only ghz so cast is very quick respond plus slot is another benefit i think it is better than poco m pro', 'big no for this mobile and there is some issue with the delivery i have received the unsill mobile that imei no also not matching and colour also get difference after that im unable to raised replacement request also but any how i connect to customer care and get it done but again it happened same phone box wa already opened but this time imei no is matching now god know how much day it will work so suggest you one you received the package check the seel first and then accept otherwise you will get the refurbished mobile', 'such amazing performance and high end processor im love to play pubg on it hoursand hour in this mi phone no heating issue at all sanpdragon g is very good for gaming this is perfect for smooth gaming experience camera is also a highlighting feature in this phone camera is superb', 'front camera quality is very badperformance is very badfingerprint is very bad please dont buy this mobile at this priceprice is also high but quality is very badplease guy dont buy redmi note pro', 'if we use camera continue for more than min then it will not work smoothly it took more than hour for full charging so charger is not a fast a company saidmobile is heavy for habdling', 'the touch need to be improved and the screen light put strain in your eyesthe worst thing about any mi phone is the innumerable ad and bloatware that come preloaded which is a pain and give irritation to any userthe only plus point is the build which look excellentbut camera is daylight and night need huge improvement', 'pro crisp and clear picture quality pixel wont break even if you zoom a per it full capacity awesome battery back up more hr packaging and delivery by amazon wa first class a usualcons slightly heavier useless mi pre installed application got it after multiple attempt during flash sale', 'writing review after day of usefor me best phone at k it take around hour to charge but battery life is best camera is ausomei will update review after month writing review nearly after monthseverything work fine and still best phone gb ram and snapdragon g handle all apps perfectly i noticed that sound is too loud and sometimes think lack clearity this happens when song are played in full volume and if we reduce volume by one them it seems ok i think this will be cleared through update otherwise phone is too good', 'the phone is completely not working after day of usage unfortunately return date just got expired so amazon is not accepting the return i could not able to replace service center of redmi is saying it will take day to fix the issue and they also not giving the replacement option dont know what to do with this defective product please dont buy this product', 'good phone worth buying one of the best option under r segmentsegment wise comparison basedprossnapdragon g nmpremium lookgorilla glassir blasterconsaverage display qualityscreen refresh rate lowlots of chinese app with adsfinal reviewone among the top pick currently available in that segment', 'great phone at this pricei have become fan of it macro camera take amazing macro shotsprosbattery lifecameraawesome designfingerprit sensorbright display although hzconsbugs in mi ui can get rid with a software updatesthey claim it fast charging but charging time iz disappointed it take nearly hr to get fully charged i suggest to charge while the phone is switched off it reduces by half an hourno amoled or higher refresh rate', 'i wa big fan of redmi budget phone and previous user of redmi note proi had to upgrade since my previous phone wa physically damagedissues in message inbox after reading message back button press will not go to list of message instead go to add contact window adding new contact name will not allow space chrome will struck all of sudden for normal poker gaming fingerprint scanner doesnt work sometimethese are very basic feature which should be process smooth it extremely bad buy given price tag', 'i am using this from daysno problem at all some time it hang but i think the problem is in it system luncher battery backup is good day in moderate usage no over heating problem camera is good not best it fast enough for day to day usage and one more thing audio quality through headphone is clear ringtone volume is adequately loud earpiece volume is loud too display is sharp no burnout problem on display', 'i would like to give five star to the product great job xiaomi this phone is a complete package a per the price range you will get lot more than you expectedpros amazing battery backup contains a huge mah battery so it obvious to have good battery backup great camera quality mp quad camera is decent all mode are working super video recording quality is also superb performance it contains qualcomm snapdragon g processor plus gb ram amazing performance and no lagging at all display inch fhd fullscreen dot display give immersive watching experience to the user but only on youtube why i will explain in the con sectioncons weight the phone is a little bit bulky you can literally feel the weight sound sound is not good but it okay not a big problem you can not enjoy full hd content on netflix and amazon prime video it a software bug i hope xiaomi will fix it', 'only camera arrangement change image look the same a pro', 'just a awesome mobile with best camera in this price segment max battery for all day usage thanks for giving snapdragon g processor for smooth performance good option to upgrade from your old device mi', 'the device feel very premium from the very beginning superb built very good weight feel really premium ha a very good battery life the camera ha very good picture quality during daytime and the night shot are great s well provided the object are stable the display h adequate brightness and contrast and is very big making viewing verey pleasing however the display could be slightly better but considering the fact that it not a amoled display it work great overall very satisfied mi could have reduced the bloatware offered and the device show and run a lot of unnecessary application', 'madarchod display very poor after two day display not working i want refund', 'pro glassy look battery fingerprint sensor and camera photoscons lagging while opening camera i faced this time now it working okayunnecessary apps add theme show some apps which not installed', 'nice product but lcdisplay is not good the finger print scanner position is really a good feature the back camera positioning is also giving a premium feel the cover that come along with the phone will spoil the appearance of the phone overall the product is good but not great', 'awesome producti bought for my younger brotherhe is so happy with the phonesuperb battery backupgreat camera awsome lookoverall great phone in this pricebatterydisplaycameramirocks', 'good point worth noting are the battery last day camera performance ha improved for macro a well a landscape photography the display clarity is much better nowdrawbacks it may break easily if it fall down the wifi reception can be improved the camera beautification make it look artificial', 'worse phonelots of network issueslike call instability problem slow screen touch response slow app response bad experience with work space partition etc', 'mobike display quality is very poor after day frok purchasing it got burn im issue keyboard is always remaining on screen very very poor cheap quality display plzz guy dnt buy this mobile a a frnd i m saying this issue is being faced my many note pro user nd mi company is not accepting this nd another issue is camera hanging bt screen issue is hardware issue nd it will not fix by update ekdm bkwaas mobile', 'i bought this phone two week back i faced several display issue frequently but now the phone is not completely working either i need the refund backplease refers a soon a possible', 'if you searching for a budget smartphone with better camera quality along with other feature and you come in comment section for your doubt clearing then i will say you are choosing right smart phone go for iti love this phone it camera is outstanding and you will get satisfied battery backup with onetime charge you will get almost full day service no lag or hangphone builtup quality is awsome and you will get side mounded finngerprint sensor phone display sound quality are excellentwhile i am purchasing i wa also use to read review and saw the photo quality in this customer rating section and here come up with my experience you blindly can purchase this phone overall in this segment it is best phone available you can trust and get the best experience using the phone', 'i am not able to change my theme or wallpaper and even if it change it get back to default automatically battery drain fast face unlock doe not work all the time i want an exchange', 'do not go by look sits one of the day worst mobile i ever used from the rd day itself problem with mobile call receiver wa unable to here voice mobile is getting restarted from th day onwards alexa is just for name sake you need to call alexa time to respond okay google also not working properly mobile automatically restarted multiple time without your knowledge fraudulent amazon after placing an order cancelled time but without any reason and retuned to seller without customer acknowledgment mobile restarting automatically voice problem hanging several time no proper network', 'facing yellowish photo taken from it camera the handset i have look like it image are yellowish not sure if the problem is with this handset only or not thinking to replace and see', 'i wa looking for a device to replace my ageing oneplus flagship and given that i dont really play lot of game and only use the device for reading article ebooks and some light web browsing and lot of call i decided to go with redmi note prothe snapdragon g inside of it performs really well and the battery is an absolute beast it been day since i last charged fully and it still going strong at the only con i could observe were some display leak near the camera hole punch and slower fingerprint sensor also the phone is a bit on the heavier side at gram and of course the software experience suck with miui but i am planning to unlock the bootloader and root it soon so that shouldnt be a problemoverall a fabulous device for the price', 'this is worst mobile from redme lot of defect are in it like screen blank speaker not work auto restart etc', 'the overall phone experience is good camera is good battery life is not upto mark a compared to mahvery good gaming experiencethe main issue i have faced is heating issue if you are recording a video for mor than min you will face heating issue and the place of heating is just around the camera sometimes during gaming for time heat up the phone also', 'this product is having automatic restart issue i have reported to mi but no one listenedi have written on twitter but answer came to write personally where no one repliedissue is still there mobile restart automatically while making call i have bought unit of this redmi note pro but i am extremely dissatisfied because of this restart issueif there is any mi executive is listening to this review kindly look into the issue and if review doesnt matter then i will say to all customer not to purchase any of mi mobile because service and issue resolution matter while using product', 'received order within hour wa happy n exited opened boxi ordered black version got blue i said ok no probthen started process of staring n then suddenly mobile got dead i charged b using still again tried to charge screen wa complete blackwithin next hr it very sad n to return it there is long process u need to wait for hour then sm technician will come n chk then he will approve thn it wl b returned but dont want this phone now', 'good processor fast speed camera could be more better battery life is too good', 'your product is getting heated in just min it hanging too muchif it is kept in charging only it will get heated up plz try to understand this phone is very defected so plz return it', 'pro good processor good screen good overall software average camera not the best but can not complain in this price bracket con too many advertisement pushed through browser and system youll need to manually turn off recommendation in every app to stop them easy to search how to do so on the net though', 'camera is of average quality and even the battery is mah capacity i didnt find in any angle that it mah the battery is draining fast even im normal user i think it of really capacity very few time the mobile is hanging the display of home icon is not coming while unlocked with fingerprint sensor', 'prosit look premiumhas a solid glass bodygood battery lifecamera performance and overall gaming is good toosmooth and proper performanceconsit get heated sometimesit take a lil bit long time to chargeit look kinda dull after applying casealso i got it for kwhich is just ok', 'very bad mobile redmi note pro have camera bug isnt response it can not open camera app it ha software issuei charged mobile to battery time taken hour', 'hi allafter day this product is having issue with the software it may be hardware issue also when i started to type some time we always have a notification of having an error please replace this product this is defective product', 'worst product of xiaomi i have ever bought got dead in month of use no service from xiaomi and asking to pay for mainboard product price is why to waste money beside i buy new phone of other brand rather then chinese dumb phone', 'it seriously awsome after using it for one month i am writing this review mobile is simply awsome but it hang a lot my be mi need to update and fix the buggs asap camara quality is simply awsome just need to fix the bug', 'good phonebut need lot of improvement software is not fully optimizedthey did not use full power of sdgthe same processor in realm pro is much better with much better optimization feel lag something fingerprint did not recognize some timecamera is average battery is goodit will be best smartphone in this segment if the optimise the software by giving update', 'battery life is very good finger scanner is also good unnecessary apps camera is not working properlyoverall phone is good but camera not that much good', 'this even being the latest in series is not compatible with google dworthless phone no new feature and hang like hell pls dont waste money on this', 'every spec of the phone function a expected even after a few month camera is upto the mark in the price range gaming and multitasking is smooth thanks to snapdragon g and sufficient amount of ramonly problem is the unnecessary spam of miuiand it take more time to charge but it help extend battery life', 'i have bought this phone two week back and the phone look stylish and cool but when it come to performance or usage i am facing multiple issue the good thing about the phone is awesome battery back upthe camera quality is not that much good with quad camera and the phone stucks in between and resume after to secondsthe main issue is the phone get a message find device closed unexpecteely and i have to format my phone twice and a far a i know there is no solution to fix this issuei am very sad a i bought this phone after multiple review and it is not satisfying minimum requirement', 'it packaging wa fine and seal of the box wa not broken but after opening it back camera wa completely broken a if it damage is caused by putting some bolt on it still thanks to amazon in the end for it easy replacement process atlast but not least redmis quality control check are pathetic and bad than worst', 'seller did not provide the spec a requested during the purchase requested for black but received blueas compared to other phone the phone is heavy cant be little uncomfortable it holding it long time and watching videosoverall it a good phone for entertainment at home i avoid carrying it around due to it large weight and size', 'i received the defective phone which did start at allthanks to amazon for returning my amount quicklyi request amazon to put the supplier green moblies in black list', 'product specification are awesomecamera is good processssor is good everything is good but the miui is worsti had updated it thrice but there is software malware of glitch it get restarted again automaticallyand a u update it micearpiece sound go away u have to talk with speaker phone it earpies dont work', 'i bought the note pro in october last week and realme on christmas the main thing i hate about redmi is their bloatware realme ha google message note app and all a the default app where a redmi ha it own apps which are crap and the redmi one is damn too heavy and thick i like slim phone also the higher refresh rate is too good display of redmi is brighter and bigger and the qualcomm processor in redmi is battery efficient and very stable where a in realme the mediatek one is close to flagship in term of gaming and image processing but it consumes more power and also dissipates heat overall i will always advice realme is a very good brand better than redmi ij many aspect so if u wan na buy a budget phone at k spend k more and go with the realme it an awesome phone', 'phone quality is good screen to body ratio is best in segment camera quality is good in day light but when clicked in night is not good at all even after night mode is on the camera doesnt function well pro mode only use mp camera which is not good at all battery is good sound quality is good snapdragon processor is best from medium helio tek processer miui is good and sometime bug bother you when u use apps they will automatically get closed in starting i thought only netflix ha some issue but it happens in all apps bug in miui is really worse please try to fix it android it is ready and mi say will get an update soon aiting for an android update officially overall in this segment it is best phone available you can trust and get the best experience using the phone', 'dont buy this phone when you click in the nightphone got hanged battery life is not good charger also not good then vooc charger finger print not work smoothly', 'likescamerascreenaudio and video content clarityvoice call and video call claritybrowsing speedbattery lifeside fingerprint readermi remotedislikeshuge and heavy g without case and screen guard just to accommodate big screen and big battery phone ha been made heavyfront cam lens could have been smaller disrupts viewnight camera need improvementhome and back button could have been placed farther from each otherfew inbuilt apps cant be removed like mi payradio doesnt have inbuilt antenna if other low priced redmi phone can have it why cant this phoneloudspeakers are at one side bottom only could have kept on both side of bottomphone say interstellar black but it not really black at all', 'phone model design and config is good good phone at very best price but after day speaker is not working and when call come automatically phone get switched off i bought many phone the same model no issue but product from amazon is not of good quality', 'very fast delivery phone is worth for moneyi am facing issue in finger print scanner if you not use the phone for three to four hour we tried to unlock with finger print scanner it is not respond we have to press the power button then entered pin then only it unlock', 'delivery wa super fast no problem ordered black but got golden yet since the look wa quite fine i did not complain about the same phone is really good in all other aspect like battery usageuser experience camera storage etc the main issue is with the charger it stopped working after two month of usage and i am trying to contact the supplier for the past twenty day and i am unable to find a proper medium to contact so there it is my folk if you are trying to get this product expect poor customer service from the seller point of view and no mode of contact from amazon too', 'firstly thanks to amazon for a perfect delivery experience it is a pretty solid phone nice premium feel great display decent battery life so far xiaomi should work on camera optimization and reducing ad at least camera optimization will make it a perfect phone for the price', 'i bought this mobile a month ago not on discount but on exchange i got it for it slow finger print is not working properly and definitely not a gaming phone it battery drain so fastrecently it getting stuck mobile became slow i went to service center after diagnosis they asked one straight question have you bought it for le price i said yes they told me disgusting truth amazon or any other online seller sell those mobile with irrepairable bug mean it not hardware problem it software problem so the problem will get repeat again and again so pls guy dont go for amazon sale', 'not happy with the purchasereason they claim the phone to be water resistant but in one occasion with slightest splash of water the screen got damaged had to pay k to repair the samereason suddenly the speaker stopped working service center person made that right after visitreason now within month of purchase the camera inside glass had become dirty and taking noisy picture i have to visit service center againnever faced this many issue with any other brand phone ever', 'the side fingerprint sensor isnt that fast that it used to be on the back but apart from the that everything is in point massive battery which can easily withstand a day even with moderate gaming the display is nice and large really liked the speaker cleaning feature im not much into capturing photo so cant compare on that the gaming is smooth and even run on high graphic', 'nice device compaired with the rate i am writing this after using for week fingerprint is good camera is also good performance is also good all want to say is i love the design of phone very shining and attractive love this phone suggest you also if u want and mobile in this range go for this phone best phone i have seen loved it', 'wa prepared for the oversize and bulk of the phone having used to smaller and lighter one before that said there hardly any lag courtesy the snapdragon not much of heating issue charge really fast battery life is impressive for my average use overall a good buy', 'camera mp for name sake it work actually a mp when u compare the same quality with other brand phone it is far away to matchdo not but this phone just by looking at feature that they offering to the phone completely this phone is proven that spending money to useless item', 'i have recieved damaged can say phone a his screen or display not working properly that can be my luck i received damange or non working display phoneas due to dewali and i gifted to another person it very defecult for me to returni requested for technical assistance person came and said i put the exchange req from my end within day phone will be exchanged or can be refund till now after day didnt get any email or confirmation msg for the same called customer care said we couldnt help out you in the same case a it got out of exchange datethank you amazon for zero cooperation and for delivering the damaged product', 'i love everything in this phone skip miui ad and some bug camera is very good in this price display phone look is really amazing it perfect phone under k only issue which i face is ad in miui and after an update battery drain quickly and sometimes heat so much', 'redmi mobile have improved a lot in term of the quality and feature and is a good competitor with the other brand of mobile phonescamera clarity is very good and the also the battery backup is pretty goodthe design and feel of the mobile is very nice and look stylish', 'mi should give watt charger with this phone it take about hour and half to full charge but the battery life is very long im writing this after day from the purchased day believe me this is the best phone to do every thing exgaming task photo editing thank youbut the delivery boy behavior wa very bad angry and amazon should give lesson to his delivery agent suman kotal', 'camera quality the camera quality is good and a you can see there is no blending in my hairit defines my hairbut there is one problem of saturation it is little high my lip get pink in picfocus is excellentperformance actually my mob get hang for sec after two day of buying this productand then didnt find any problem with performancebattery is very good and affordable i wathched a hr video and battery drained by only so you can imagine hows the battery lifelets get to conclusion buy it', 'please dont by this mobile i am facing many problem like heating problem hanging problem slow alexa doesnt work properly phone catch dust irritate while on a call because of heating camera quality is average battery drainage problem', 'i bought redmi note pro from amazon great indian festival sale recently on october having the benefit of being the prime memberbut when the phone wa deliverd the fraud ha happened to meseal of the my redmi note pro is already broken and i get the used cable phone cover is missingthe charger is also having issueand the most important my redmi note pro isnt working moreover it ha all the scratch all over the phonethe box i get of my phone is dirtyplzz dont buy this phone or any other thing from amazon earlier it also happens in case when i bought the samsung level u i get the fake product', 'i am giving this review after using daysthe product is actually nice one from redmii dont know if this problem is happened to the particular product i gotafter one week my phone got complainti asked for replacement immediately and they didnt gave mei wa intended to got to service center and they convinced me by repairing itagain after one month my phone went stuck it freezed actuallyand when i again asked for immediate replacement they rejected and again intended me to service centerbut the service center made me wait for one weeki wa going through online class and my class hour wa missed for one weekand after one week i went to service center and they asked me to come and get return the phone after daysagain my day class wa missednow it been day after the phone is bought and again it is under complaintthis time the complaint is the handset speaker is not working only if i put the phone is loud speaker mode i can hear the voice of the other person on the other side of phoneso i prefer not to buy this phoneplease try some other smartones', 'overall okay productgood displaygood processorfront and back glass panelfingerprint is accuratedesign is finecamera is not up to the marksome time lagging even routine task alsotouch sensitivity issue', 'battery life is excellent but camera bad and fingerprint sensor are not working properly', 'several time mobile get hanged and low performance fingerprint scanner is poor worst phone among redmi', 'this is one of the best android cell phone available in this range this phone give a powerpack performance all the time it display camera overall performance and battery is one of the best prototype available in market but just one thing that i didnt liked about this is it weight it quite heavy no a lot heavy when i am carrying it it seems like a load on my hand and all the time i am afraid if i am going to drop it off but the phone is fantastic worth it', 'very satisfied look gorgeous and arrived so quickly well to my first buy here on e global central i have to admit there very good service no complaining at all everything very clean done with carespeed price quality defeat all other store and fulfill all my expectation', 'worth for money good quality slow motion vedio is only for second recordingand such a big phone but no earphonecustom feel more happy if they get earphone just a feedback you can add another couple of hundred but must give earphone along with phonecamera quality is goodfingerprints reader is on side onoff key']\n"
     ]
    }
   ],
   "source": [
    "# Forming a sentence from the remaining words\n",
    "\n",
    "corpus = []\n",
    "for i in range(0, 158):\n",
    "    review = ' '.join(dataset['Comment'][i])\n",
    "    corpus.append(review)\n",
    "\n",
    "print(\"Corpus\", corpus)"
   ]
  },
  {
   "cell_type": "code",
   "execution_count": 21,
   "metadata": {},
   "outputs": [
    {
     "name": "stderr",
     "output_type": "stream",
     "text": [
      "C:\\Users\\rojit\\anaconda3\\lib\\site-packages\\ipykernel_launcher.py:13: SettingWithCopyWarning: \n",
      "A value is trying to be set on a copy of a slice from a DataFrame.\n",
      "Try using .loc[row_indexer,col_indexer] = value instead\n",
      "\n",
      "See the caveats in the documentation: https://pandas.pydata.org/pandas-docs/stable/user_guide/indexing.html#returning-a-view-versus-a-copy\n",
      "  del sys.path[0]\n"
     ]
    },
    {
     "data": {
      "text/html": [
       "<div>\n",
       "<style scoped>\n",
       "    .dataframe tbody tr th:only-of-type {\n",
       "        vertical-align: middle;\n",
       "    }\n",
       "\n",
       "    .dataframe tbody tr th {\n",
       "        vertical-align: top;\n",
       "    }\n",
       "\n",
       "    .dataframe thead th {\n",
       "        text-align: right;\n",
       "    }\n",
       "</style>\n",
       "<table border=\"1\" class=\"dataframe\">\n",
       "  <thead>\n",
       "    <tr style=\"text-align: right;\">\n",
       "      <th></th>\n",
       "      <th>Rating</th>\n",
       "      <th>Comment</th>\n",
       "      <th>Classify</th>\n",
       "    </tr>\n",
       "  </thead>\n",
       "  <tbody>\n",
       "    <tr>\n",
       "      <th>0</th>\n",
       "      <td>1</td>\n",
       "      <td>[after, one, month, intense, use, i, am, here,...</td>\n",
       "      <td>-1</td>\n",
       "    </tr>\n",
       "    <tr>\n",
       "      <th>1</th>\n",
       "      <td>4</td>\n",
       "      <td>[feedback, after, using, it, for, dayspros, so...</td>\n",
       "      <td>1</td>\n",
       "    </tr>\n",
       "    <tr>\n",
       "      <th>2</th>\n",
       "      <td>4</td>\n",
       "      <td>[writing, this, review, after, day, of, usageg...</td>\n",
       "      <td>1</td>\n",
       "    </tr>\n",
       "    <tr>\n",
       "      <th>3</th>\n",
       "      <td>5</td>\n",
       "      <td>[just, amazingcamera, battery, and, performanc...</td>\n",
       "      <td>1</td>\n",
       "    </tr>\n",
       "    <tr>\n",
       "      <th>4</th>\n",
       "      <td>4</td>\n",
       "      <td>[i, am, writing, this, review, after, one, mon...</td>\n",
       "      <td>1</td>\n",
       "    </tr>\n",
       "  </tbody>\n",
       "</table>\n",
       "</div>"
      ],
      "text/plain": [
       "   Rating                                            Comment  Classify\n",
       "0       1  [after, one, month, intense, use, i, am, here,...        -1\n",
       "1       4  [feedback, after, using, it, for, dayspros, so...         1\n",
       "2       4  [writing, this, review, after, day, of, usageg...         1\n",
       "3       5  [just, amazingcamera, battery, and, performanc...         1\n",
       "4       4  [i, am, writing, this, review, after, one, mon...         1"
      ]
     },
     "execution_count": 21,
     "metadata": {},
     "output_type": "execute_result"
    }
   ],
   "source": [
    "# Classifying Reviews as positive/negative/neutral based on ratings\n",
    "\n",
    "classify = []\n",
    "for i in range(0, 158):\n",
    "    if dataset['Rating'][i] > 3:\n",
    "        classify.append(1)\n",
    "    elif dataset['Rating'][i] < 3: \n",
    "        classify.append(-1)\n",
    "    else:\n",
    "        classify.append(0)\n",
    "\n",
    "\n",
    "dataset['Classify'] = classify\n",
    "dataset.head()"
   ]
  },
  {
   "cell_type": "code",
   "execution_count": 22,
   "metadata": {},
   "outputs": [
    {
     "name": "stdout",
     "output_type": "stream",
     "text": [
      "{'after': 38, 'one': 764, 'month': 720, 'use': 1376, 'am': 63, 'here': 569, 'to': 1290, 'submit': 1206, 'is': 626, 'very': 1404, 'worst': 1475, 'model': 716, 'phone': 797, 'in': 610, 'redmi': 946, 'series': 1085, 'because': 170, 'with': 1464, 'day': 342, 'purchase': 879, 'the': 1259, 'problem': 836, 'this': 1277, 'thought': 1282, 'it': 636, 'may': 700, 'resolved': 988, 'automatically': 128, 'while': 1454, 'updating': 1360, 'but': 251, 'doe': 395, 'happened': 532, 'main': 690, 'that': 1255, 'what': 1447, 'ever': 424, 'xiomi': 1485, 'promoted': 858, 'like': 671, 'quadra': 888, 'camera': 268, 'not': 749, 'at': 117, 'all': 48, 'opening': 770, 'saying': 1045, 'error': 420, 'please': 810, 'restart': 996, 'so': 1138, 'many': 693, 'time': 1287, 'restarted': 997, 'no': 745, 'response': 992, 'and': 75, 'also': 59, 'strucking': 1198, 'usingi': 1390, 'request': 979, 'of': 757, 'you': 1491, 'kindly': 654, 'buy': 254, 'feedback': 451, 'using': 1389, 'for': 467, 'solid': 1141, 'sturdy': 1204, 'robust': 1021, 'look': 681, 'battery': 164, 'performance': 794, 'matter': 698, 'do': 394, 'will': 1461, 'last': 662, 'halffull': 522, 'speed': 1165, 'without': 1466, 'any': 84, 'lag': 658, 'thanks': 1254, 'qualcomm': 889, 'snapdragon': 1137, 'miui': 712, 'ha': 516, 'best': 183, 'interface': 620, 'good': 494, 'especially': 421, 'night': 744, 'hd': 547, 'display': 393, 'cool': 327, 'dot': 401, 'mounted': 723, 'fingerprint': 461, 'awesomecons': 140, 'bit': 191, 'bulky': 246, 'heavy': 560, 'tempered': 1248, 'glass': 490, 'back': 145, 'cover': 330, 'almost': 56, 'gramsthe': 500, 'color': 303, 'black': 193, 'or': 773, 'grey': 506, 'actually': 16, 'blueno': 207, 'quick': 898, 'vasool': 1397, 'mobile': 714, 'segment': 1070, 'need': 737, 'mi': 708, 'have': 543, 'resale': 982, 'value': 1395, 'compared': 310, 'other': 776, 'writing': 1481, 'review': 1010, 'usagegiving': 1369, 'star': 1178, 'better': 184, 'life': 669, 'expectation': 431, 'be': 166, 'first': 463, 'wa': 1420, 'stock': 1186, 'android': 76, 'user': 1385, 'since': 1110, 'long': 680, 'spec': 1160, 'are': 102, 'experience': 433, 'great': 503, 'by': 257, 'amazon': 67, 'couldnt': 329, 'recieve': 937, 'quicker': 899, 'lockdown': 679, 'thats': 1258, 'place': 806, 'recieved': 938, 'within': 1465, 'average': 132, 'extensively': 435, 'regular': 961, 'music': 729, 'light': 670, 'apps': 98, 'turn': 1318, 'out': 778, 'expected': 432, 'find': 458, 'picture': 803, 'getting': 485, 'hazy': 546, 'software': 1139, 'update': 1354, 'before': 174, 'usage': 1368, 'then': 1264, 'quality': 890, 'been': 173, 'than': 1251, 'sensor': 1080, 'take': 1233, 'little': 676, 'unlocked': 1347, 'screen': 1051, 'appear': 90, 'put': 885, 'your': 1495, 'finger': 460, 'could': 328, 'location': 678, 'sensorheating': 1082, 'issue': 629, 'heating': 558, 'whatsoever': 1449, 'charger': 289, 'get': 484, 'heated': 557, 'hour': 587, 'charging': 290, 'soperformance': 1153, 'overall': 781, 'charge': 287, 'my': 731, 'from': 474, 'around': 104, 'lot': 683, 'useless': 1381, 'would': 1478, 'preinstalled': 823, 'half': 521, 'them': 1261, 'cant': 275, 'uninstalled': 1341, 'browser': 236, 'bad': 152, 'suggest': 1212, 'go': 492, 'appsdefault': 99, 'change': 285, 'few': 454, 'those': 1280, 'sliding': 1117, 'up': 1353, 'home': 581, 'open': 768, 'can': 272, 'easily': 413, 'disable': 389, 'settingsnote': 1091, 'wallpaper': 1426, 'default': 350, 'activatedworks': 14, 'well': 1444, 'above': 2, 'cleaning': 297, 'just': 645, 'amazingcamera': 66, 'top': 1300, 'mark': 694, 'usageit': 1370, 'fully': 477, 'unbiased': 1330, 'reviewdisplaybatterycharging': 1012, 'fast': 447, 'acceptable': 6, 'build': 242, 'ie': 601, 'below': 180, 'price': 829, 'rangevideo': 909, 'qualityfingerprint': 892, 'scannerspeaker': 1048, 'qualitycall': 891, 'design': 367, 'processor': 844, 'amazing': 65, 'there': 1265, 'an': 74, 'pubg': 876, 'run': 1025, 'smoothly': 1136, 'fps': 470, 'applying': 94, 'tool': 1298, 'literally': 675, 'under': 1334, 'kheating': 651, 'allconsweak': 50, 'network': 739, 'reception': 936, 'amoled': 70, 'handle': 525, 'single': 1111, 'hand': 523, 'gyroscope': 515, 'calibrated': 260, 'company': 308, 'whenever': 1451, 'try': 1315, 'play': 808, 'some': 1143, 'bug': 240, 'which': 1453, 'fixed': 465, 'poor': 817, 'qualitylow': 893, 'unknown': 1344, 'during': 408, 'noticed': 752, 'high': 572, 'ping': 805, 'device': 376, 'even': 423, 'area': 103, 'dont': 400, 'know': 656, 'yes': 1489, 'every': 425, 'playing': 809, 'online': 766, 'game': 479, 'hang': 528, 'always': 62, 'prompt': 859, 'when': 1450, 'charged': 288, 'if': 602, 'full': 476, 'pm': 814, 'blank': 195, 'attending': 121, 'call': 261, 'seems': 1068, 'got': 498, 'defective': 354, 'piece': 804, 'return': 1005, 'same': 1034, 'coz': 331, 'still': 1185, 'able': 0, 'show': 1105, 'service': 1087, 'center': 284, 'wasted': 1431, 'hard': 537, 'money': 719, 'hanging': 530, 'problemsbattery': 838, 'backup': 148, 'badalready': 153, 'amozon': 73, 'responseworst': 993, 'product': 850, 'headproduct': 551, 'fake': 443, 'delivered': 361, 'imei': 606, 'number': 755, 'note': 750, 'proi': 856, 'used': 1378, 'approximately': 97, 'reviewthe': 1015, 'side': 1107, 'usually': 1394, 'prefer': 822, 'budget': 239, 'they': 1268, 'given': 488, 'awesome': 137, 'module': 718, 'excellent': 427, 'we': 1438, 'should': 1103, 'expect': 430, 'much': 726, 'rest': 995, 'thing': 1272, 'perfectly': 793, 'working': 1473, 'except': 428, 'reader': 919, 'once': 763, 'hope': 584, 'resolve': 987, 'updatescamera': 1358, 'work': 1472, 'low': 686, 'smoothing': 1135, 'image': 605, 'processinbattery': 842, 'usp': 1391, 'balanced': 157, 'ultra': 1327, 'internet': 621, 'on': 762, 'deviceui': 377, 'third': 1276, 'uninstall': 1340, 'showing': 1106, 'belly': 179, 'video': 1406, 'resultsi': 1001, 'why': 1458, 'smhconnectivity': 1133, 'perfect': 792, 'way': 1437, 'honor': 583, 'earlier': 410, 'mbps': 701, 'now': 754, 'wifi': 1460, 'tooconclusion': 1296, 'max': 699, 'wont': 1471, 'ive': 641, 'taken': 1234, 'seeing': 1066, 'youtube': 1497, 'totally': 1302, 'different': 384, 'too': 1295, 'heat': 556, 'drainage': 405, 'face': 439, 'im': 604, 'truly': 1310, 'unsatisfied': 1350, 'delivery': 363, 'ok': 759, 'pro': 834, 'launched': 664, 'till': 1286, 'bought': 221, 'trusting': 1313, 'brand': 226, 'superb': 1219, 'xiaomi': 1484, 'making': 692, 'customer': 334, 'changing': 286, 'wrong': 1483, 'sidewaysthey': 1108, 'say': 1044, 'mp': 725, 'photo': 801, 'nothing': 751, 'slowbattery': 1124, 'draining': 406, 'multiple': 727, 'task': 1240, 'waste': 1430, 'gb': 483, 'version': 1402, 'bcz': 165, 'slow': 1123, 'application': 92, 'stuck': 1199, 'automaticallycamera': 130, 'app': 89, 'wise': 1463, 'big': 188, 'super': 1218, 'doesnt': 396, 'proper': 860, 'item': 638, 'restarts': 999, 'took': 1297, 'storm': 1192, 'premium': 824, 'amazed': 64, 'soon': 1152, 'ordered': 775, 'received': 932, 'realized': 923, 'shading': 1094, 'bottom': 219, 'wonder': 1470, 'made': 688, 'per': 791, 'rate': 910, 'sum': 1215, 'samsung': 1037, 'thank': 1252, 'me': 702, 'front': 475, 'size': 1114, 'otherwise': 777, 'detorerating': 374, 'suggesting': 1213, 'their': 1260, 'recently': 935, 'new': 741, 'proximity': 874, 'off': 758, 'someone': 1144, 'stay': 1184, 'annoying': 79, 'colour': 304, 'touch': 1303, 'promise': 857, 'give': 487, 'option': 772, 'didnt': 382, 'difference': 383, 'normal': 748, 'mode': 715, 'sometimes': 1147, 'noisy': 746, 'strong': 1196, 'ambient': 69, 'google': 497, 'assistant': 116, 'tried': 1307, 'wake': 1424, 'only': 767, 'set': 1088, 'everything': 426, 'voice': 1416, 'assistance': 115, 'useplease': 1383, 'feel': 452, 'heart': 555, 'broken': 234, 'far': 446, 'these': 1267, 'two': 1323, 'found': 469, 'must': 730, 'wow': 1479, 'surprised': 1226, 'due': 407, 'quite': 903, 'load': 677, 'quickly': 900, 'disappointed': 391, 'today': 1291, 'suddenly': 1210, 'stopped': 1188, 'going': 493, 'clear': 298, 'switch': 1227, 'went': 1445, 'ridiculous': 1017, 'who': 1455, 'reasonable': 929, 'priced': 830, 'contact': 322, 'team': 1241, 'warranty': 1429, 'suggestion': 1214, 'phonecamera': 798, 'goodbattery': 495, 'more': 721, 'min': 709, 'sound': 1156, 'unhappy': 1339, 'having': 545, 'zoom': 1499, 'thnx': 1279, 'bring': 233, 'market': 695, 'phonethis': 800, 'decent': 345, 'censor': 283, 'content': 324, 'netflix': 738, 'hdr': 548, 'hr': 593, 'gaming': 481, 'audio': 123, 'fantastic': 445, 'purchased': 880, 'decision': 347, 'believe': 178, 'year': 1486, 'old': 761, 'icon': 599, 'smartphone': 1132, 'three': 1283, 'useto': 1388, 'start': 1181, 'uniqueness': 1342, 'quad': 887, 'setup': 1092, 'navic': 733, 'haptic': 536, 'glassy': 491, 'finish': 462, 'factor': 442, 'make': 691, 'pretty': 827, 'produce': 848, 'sensorsdepth': 1083, 'macro': 687, 'wide': 1459, 'according': 10, 'along': 57, 'primary': 831, 'shooter': 1099, 'produced': 849, 'highly': 575, 'dependent': 366, 'handling': 526, 'selected': 1072, 'etc': 422, 'recording': 943, 'available': 131, 'record': 941, 'movie': 724, 'scope': 1049, 'isro': 628, 'developed': 375, 'positioning': 818, 'system': 1230, 'add': 20, 'accuracy': 11, 'really': 924, 'liked': 672, 'technology': 1245, 'packed': 784, 'come': 305, 'protection': 865, 'dedicated': 349, 'external': 436, 'memory': 706, 'slot': 1122, 'variant': 1396, 'limited': 673, 'storage': 1189, 'upto': 1364, 'witnessed': 1468, 'commendable': 306, 'hike': 576, 'download': 403, 'were': 1446, 'stuff': 1202, 'about': 1, 'ad': 18, 'notification': 753, 'disabled': 390, 'settingsavailable': 1090, 'blog': 204, 'where': 1452, 'minute': 710, 'id': 600, 'sorted': 1155, 'next': 742, 'ui': 1326, 'how': 590, 'punch': 878, 'hole': 580, 'cam': 265, 'his': 577, 'desire': 371, 'hide': 571, 'ram': 905, 'ghz': 486, 'reliable': 963, 'smooth': 1134, 'retain': 1003, 'cache': 259, 'opened': 769, 'amount': 72, 'switching': 1229, 'between': 187, 'pull': 877, 'speaker': 1159, 'earpiece': 412, 'both': 217, 'output': 779, 'type': 1324, 'usb': 1375, 'headphone': 550, 'jack': 643, 'cable': 258, 'adapter': 19, 'faster': 448, 'provided': 871, 'box': 222, 'whopping': 1457, 'mah': 689, 'moderate': 717, 'nice': 743, 'see': 1065, 'stuffing': 1203, 'did': 381, 'appreciate': 95, 'gamer': 480, 'refresh': 956, 'concern': 317, 'graphicsi': 502, 'havent': 544, 'faced': 440, 'kind': 652, 'cameraoverall': 270, 'range': 907, 'feature': 450, 'giving': 489, 'honest': 582, 'useageif': 1377, 'specifically': 1163, 'looking': 682, 'afford': 35, 'realme': 926, 'want': 1428, 'student': 1201, 'aspect': 113, 'personally': 796, 'mistake': 711, 'height': 562, 'calling': 263, 'ir': 624, 'blaster': 196, 'alexa': 47, 'unlock': 1345, 'awesomeoverall': 143, 'worth': 1477, 'plz': 813, 'probably': 835, 'built': 243, 'blue': 205, 'reeeeeeeallly': 953, 'sloooow': 1121, 'unlocking': 1348, 'sad': 1027, 'such': 1207, 'suck': 1208, 'irritating': 625, 'happy': 535, 'bomb': 212, 'deny': 365, 'fine': 459, 'hate': 542, 'productphone': 854, 'properly': 861, 'trying': 1316, 'returning': 1008, 'unfair': 1337, 'mean': 703, 'marketing': 696, 'doing': 397, 'fraud': 472, 'stylish': 1205, 'harware': 541, 'amazoncons': 68, 'damaged': 340, 'putting': 886, 'protect': 864, 'protector': 866, 'usepros': 1384, 'designlook': 369, 'cancellationcons': 273, 'point': 816, 'tab': 1231, 'senow': 1078, 'part': 787, 'never': 740, 'reach': 916, 'file': 456, 'provider': 872, 'into': 623, 'photography': 802, 'horrible': 586, 'becomes': 172, 'storewhich': 1191, 'control': 326, 'over': 780, 'non': 747, 'lens': 668, 'af': 33, 'uncomfortable': 1333, 'anyone': 85, 'sent': 1084, 'written': 1482, 'interstellar': 622, 'inside': 614, 'gave': 482, 'sister': 1112, 'buying': 256, 'another': 80, 'had': 518, 'oneplus': 765, 'past': 788, 'bar': 160, 'yet': 1490, 'daily': 337, 'usagescreen': 1373, 'allsmoothness': 53, 'replaced': 973, 'navigation': 734, 'refund': 957, 'told': 1293, 'send': 1076, 'inspection': 615, 'boy': 224, 'check': 292, 'th': 1250, 'afternoon': 39, 'asking': 112, 'tell': 1247, 'explain': 434, 'isnt': 627, 'ready': 922, 'leave': 667, 'think': 1274, 'book': 213, 'called': 262, 'tollfree': 1294, 'trusted': 1312, 'done': 399, 'immediately': 607, 'requested': 980, 'theyre': 1269, 'bother': 218, 'end': 417, 'anyway': 87, 'resultscamera': 1000, 'starpremium': 1180, 'greatback': 504, 'fabulous': 438, 'something': 1145, 'camers': 271, 'vertical': 1403, 'boring': 216, 'con': 316, 'again': 40, 'applicationsoverall': 93, 'processing': 843, 'click': 300, 'second': 1060, 'thingthere': 1273, 'hardware': 540, 'thatplease': 1257, 'reduce': 949, 'allow': 51, 'dolby': 398, 'atmos': 119, 'standard': 1177, 'ur': 1365, 'screenbest': 1052, 'scannergood': 1047, 'backupgood': 150, 'ratecamera': 911, 'watch': 1432, 'remote': 965, 'satisfied': 1039, 'function': 478, 'sometimesscreen': 1149, 'bigaudio': 189, 'betteroverpriced': 186, 'festival': 453, 'salebest': 1033, 'kmi': 655, 'multitasking': 728, 'watching': 1433, 'graphic': 501, 'unbelievable': 1329, 'thik': 1271, 'shocked': 1098, 'special': 1161, 'cheap': 291, 'typical': 1325, 'chinese': 293, 'toy': 1304, 'though': 1281, 'bluethe': 208, 'vivid': 1415, 'vibrant': 1405, 'quicklythe': 902, 'hold': 578, 'tv': 1319, 'guide': 513, 'helpfulthe': 568, 'power': 820, 'buttonfingerprint': 253, 'press': 826, 'tap': 1239, 'wakethe': 1425, 'thick': 1270, 'tall': 1238, 'youre': 1496, 'elsewhere': 415, 'compare': 309, 'dimension': 386, 'handedly': 524, 'faulty': 449, 'prodctand': 847, 'responding': 990, 'bleeding': 199, 'issuesphone': 635, 'keep': 646, 'print': 833, 'scanner': 1046, 'enough': 419, 'anti': 83, 'dust': 409, 'handset': 527, 'provides': 873, 'loud': 684, 'name': 732, 'awesomeness': 142, 'themselves': 1263, 'rounder': 1023, 'ranger': 908, 'usable': 1367, 'quantity': 896, 'receiver': 933, 'consider': 320, 'fix': 464, 'reviewsplease': 1014, 'usagepros': 1372, 'running': 1026, 'adequate': 23, 'condition': 318, 'selfie': 1073, 'detail': 372, 'sample': 1036, 'reached': 917, 'crisp': 333, 'breeze': 228, 'clarity': 295, 'volume': 1417, 'complaint': 313, 'headset': 552, 'sennheiser': 1077, 'cx': 336, 'usability': 1366, 'thankfully': 1253, 'bloatware': 203, 'remove': 967, 'adfree': 25, 'comparison': 311, 'region': 959, 'st': 1175, 'helena': 563, 'adjusted': 26, 'class': 296, 'accepting': 7, 'returnvery': 1009, 'frame': 471, 'least': 666, 'goodit': 496, 'usethe': 1387, 'delay': 359, 'pre': 821, 'installed': 616, 'uselessi': 1382, 'guess': 511, 'updatefor': 1356, 'arrived': 106, 'todayafter': 1292, 'sometime': 1146, 'hear': 553, 'callvoice': 264, 'recorder': 942, 'switched': 1228, 'happeniam': 533, 'hoping': 585, 'affecting': 34, 'continue': 325, 'batter': 163, 'cameragood': 269, 'mob': 713, 'designno': 370, 'started': 1182, 'slowing': 1127, 'down': 402, 'usedfingerprint': 1379, 'slowdisplay': 1125, 'le': 665, 'lack': 657, 'brightness': 232, 'sunlight': 1217, 'although': 61, 'averageoverall': 133, 'aurora': 124, 'seller': 1075, 'delivering': 362, 'actual': 15, 'latest': 663, 'access': 8, 'possible': 819, 'cut': 335, 'ask': 110, 'person': 795, 'said': 1029, 'pathetic': 789, 'previous': 828, 'superior': 1220, 'backupan': 149, 'pain': 785, 'itself': 640, 'securitywise': 1064, 'easy': 414, 'yearold': 1487, 'adult': 29, 'worse': 1474, 'aware': 135, 'care': 279, 'supposedly': 1224, 'reset': 983, 'space': 1157, 'resettingthe': 984, 'disappointing': 392, 'complete': 314, 'issueamazon': 630, 'responsible': 994, 'replacement': 974, 'reply': 976, 'dilly': 385, 'dalying': 338, 'truely': 1309, 'technician': 1244, 'fraudulent': 473, 'email': 416, 'registered': 960, 'hanged': 529, 'crap': 332, 'sold': 1140, 'indian': 613, 'sale': 1032, 'talking': 1237, 'drain': 404, 'plus': 812, 'reduced': 950, 'large': 661, 'considering': 321, 'okay': 760, 'spend': 1167, 'aspecti': 114, 'read': 918, 'planning': 807, 'facing': 441, 'strange': 1195, 'decreased': 348, 'anything': 86, 'bulkypros': 247, 'capture': 277, 'beautification': 168, 'inch': 612, 'fhd': 455, 'card': 278, 'splashproof': 1170, 'blasternavic': 198, 'hz': 597, 'rnpro': 1020, 'setting': 1089, 'support': 1222, 'short': 1100, 'mediatek': 704, 'gtfinal': 508, 'verdict': 1400, 'supporting': 1223, 'sd': 1054, 'format': 468, 'clicked': 301, 'viewed': 1410, 'instantly': 617, 'appsome': 100, 'landscape': 660, 'view': 1409, 'triangular': 1306, 'spot': 1174, 'connected': 319, 'most': 722, 'updateoverall': 1357, 'love': 685, 'allround': 52, 'saggy': 1028, 'whole': 1456, 'rear': 927, 'vowifi': 1419, 'receivervoice': 934, 'talk': 1236, 'keeping': 647, 'upset': 1362, 'waited': 1422, 'sure': 1225, 'purchasing': 882, 'fan': 444, 'purpose': 883, 'gud': 510, 'until': 1352, 'detailing': 373, 'waiting': 1423, 'stable': 1176, 'cellphone': 282, 'booked': 214, 'order': 774, 'cancelled': 274, 'additional': 22, 'gst': 507, 'unable': 1328, 'enjoy': 418, 'reviewamazon': 1011, 'dazzling': 343, 'specially': 1162, 'definition': 358, 'screencharging': 1053, 'watt': 1436, 'flagship': 466, 'usual': 1392, 'sorry': 1154, 'unboxed': 1331, 'brfore': 229, 'technically': 1243, 'refurbished': 958, 'panel': 786, 'film': 457, 'removed': 968, 'present': 825, 'therefore': 1266, 'guessed': 512, 'prof': 855, 'prsence': 875, 'seen': 1069, 'help': 567, 'torch': 1301, 'receive': 931, 'shape': 1095, 'dent': 364, 'scratch': 1050, 'replace': 972, 'advice': 32, 'buyer': 255, 'bright': 230, 'provide': 870, 'however': 591, 'poco': 815, 'usagephone': 1371, 'slower': 1126, 'heard': 554, 'youtubers': 1498, 'bleedingit': 200, 'job': 644, 'timethe': 1289, 'extremely': 437, 'awesomehere': 141, 'tpu': 1305, 'case': 281, 'bumpnoye': 248, 'awesomebut': 138, 'reason': 928, 'helo': 566, 'community': 307, 'banned': 159, 'through': 1285, 'unlockcons': 1346, 'unclock': 1332, 'referesh': 954, 'clearity': 299, 'betteri': 185, 'hung': 596, 'abruptly': 3, 'browsing': 237, 'allsound': 54, 'videocon': 1407, 'dh': 379, 'backcoverfingerprint': 146, 'store': 1190, 'harddisplay': 538, 'splitscreen': 1171, 'ver': 1399, 'turbo': 1317, 'whatsapp': 1448, 'ball': 158, 'trouble': 1308, 'rebootingnot': 930, 'qualityunwanted': 895, 'appsunwanted': 101, 'advertisementsometimes': 31, 'sponsered': 1173, 'agency': 43, 'thatgood': 1256, 'sizesatisfied': 1115, 'saturated': 1041, 'respondqualcomm': 991, 'interested': 619, 'respond': 989, 'benefit': 181, 'unsill': 1351, 'matching': 697, 'raised': 904, 'already': 58, 'package': 782, 'seel': 1067, 'accept': 5, 'hoursand': 589, 'sanpdragon': 1038, 'highlighting': 574, 'badperformance': 155, 'badfingerprint': 154, 'badplease': 156, 'guy': 514, 'saidmobile': 1030, 'habdling': 517, 'improved': 608, 'strain': 1194, 'userthe': 1386, 'huge': 594, 'improvement': 609, 'break': 227, 'capacity': 276, 'packaging': 783, 'usualcons': 1393, 'slightly': 1119, 'heavier': 559, 'attempt': 120, 'usefor': 1380, 'ausomei': 125, 'nearly': 736, 'happens': 534, 'song': 1151, 'completely': 315, 'unfortunately': 1338, 'segmentsegment': 1071, 'basedprossnapdragon': 161, 'blasterconsaverage': 197, 'qualityscreen': 894, 'adsfinal': 28, 'reviewone': 1013, 'among': 71, 'become': 171, 'shotsprosbattery': 1102, 'designfingerprit': 368, 'sensorbright': 1081, 'hzconsbugs': 598, 'rid': 1016, 'updatesthey': 1359, 'claim': 294, 'iz': 642, 'reduces': 951, 'hourno': 588, 'higher': 573, 'upgrade': 1361, 'damagedissues': 341, 'message': 707, 'reading': 921, 'button': 252, 'list': 674, 'window': 1462, 'adding': 21, 'struck': 1197, 'sudden': 1209, 'sometimethese': 1150, 'basic': 162, 'process': 840, 'tag': 1232, 'ringtone': 1019, 'adequately': 24, 'sharp': 1096, 'burnout': 250, 'contains': 323, 'lagging': 659, 'sectioncons': 1063, 'weight': 1443, 'prime': 832, 'arrangement': 105, 'beginning': 175, 'shot': 1101, 'viewing': 1411, 'verey': 1401, 'unnecessary': 1349, 'theme': 1262, 'spoil': 1172, 'appearance': 91, 'producti': 853, 'younger': 1494, 'brotherhe': 235, 'phonesuperb': 799, 'backupgreat': 151, 'awsome': 144, 'artificial': 108, 'issueslike': 634, 'burn': 249, 'keyboard': 650, 'remaining': 964, 'being': 177, 'nd': 735, 'bt': 238, 'bkwaas': 192, 'week': 1440, 'several': 1093, 'backplease': 147, 'refers': 955, 'searching': 1058, 'section': 1062, 'right': 1018, 'smart': 1130, 'iti': 639, 'hangphone': 531, 'builtup': 244, 'saw': 1043, 'rating': 913, 'blindly': 202, 'trust': 1311, 'exchange': 429, 'sits': 1113, 'rd': 915, 'sake': 1031, 'retuned': 1004, 'acknowledgment': 13, 'restarting': 998, 'yellowish': 1488, 'thinking': 1275, 'ageing': 42, 'article': 107, 'web': 1439, 'decided': 346, 'prothe': 867, 'absolute': 4, 'beast': 167, 'gram': 499, 'bootloader': 215, 'root': 1022, 'shouldnt': 1104, 'problemoverall': 837, 'redme': 945, 'defect': 352, 'auto': 126, 'automatic': 127, 'reported': 977, 'twitter': 1322, 'answer': 81, 'came': 267, 'write': 1480, 'repliedissue': 975, 'unit': 1343, 'issueif': 633, 'resolution': 986, 'boxi': 223, 'probthen': 839, 'staring': 1179, 'dead': 344, 'blackwithin': 194, 'wait': 1421, 'sm': 1128, 'he': 549, 'approve': 96, 'thn': 1278, 'wl': 1469, 'returned': 1006, 'kept': 648, 'understand': 1335, 'defected': 353, 'complain': 312, 'bracket': 225, 'advertisement': 30, 'pushed': 884, 'youll': 1493, 'recommendation': 940, 'stop': 1187, 'search': 1057, 'angle': 77, 'prosit': 863, 'bodygood': 210, 'toosmooth': 1299, 'sometimesit': 1148, 'kinda': 653, 'issuei': 632, 'hi': 570, 'allafter': 49, 'pay': 790, 'beside': 182, 'rather': 912, 'seriously': 1086, 'simply': 1109, 'buggs': 241, 'asap': 109, 'camara': 266, 'sdgthe': 1055, 'realm': 925, 'optimization': 771, 'recognize': 939, 'timecamera': 1288, 'properlyoverall': 862, 'hell': 565, 'pls': 811, 'sufficient': 1211, 'ramonly': 906, 'spam': 1158, 'upthe': 1363, 'stucks': 1200, 'resume': 1002, 'secondsthe': 1061, 'closed': 302, 'unexpecteely': 1336, 'twice': 1321, 'solution': 1142, 'satisfying': 1040, 'requirement': 981, 'seal': 1056, 'damage': 339, 'bolt': 211, 'atlast': 118, 'redmis': 948, 'blueas': 206, 'holding': 579, 'videosoverall': 1408, 'avoid': 134, 'carrying': 280, 'allthanks': 55, 'quicklyi': 901, 'supplier': 1221, 'green': 505, 'specification': 1164, 'awesomecamera': 139, 'processssor': 846, 'worsti': 1476, 'updated': 1355, 'thrice': 1284, 'automaticallyand': 129, 'away': 136, 'october': 756, 'slim': 1120, 'brighter': 231, 'bigger': 190, 'term': 1249, 'ij': 603, 'wan': 1427, 'body': 209, 'ratio': 914, 'medium': 705, 'helio': 564, 'tek': 1246, 'processer': 841, 'starting': 1183, 'aiting': 46, 'vooc': 1418, 'speedbattery': 1166, 'readermi': 920, 'remotedislikeshuge': 966, 'guard': 509, 'accommodate': 9, 'heavyfront': 561, 'smaller': 1129, 'viewnight': 1412, 'inbuilt': 611, 'antenna': 82, 'bottomphone': 220, 'usageuser': 1374, 'twenty': 1320, 'reducing': 952, 'ago': 45, 'definitely': 357, 'became': 169, 'diagnosis': 380, 'asked': 111, 'straight': 1193, 'question': 897, 'truth': 1314, 'sell': 1074, 'repeat': 971, 'purchasereason': 881, 'water': 1434, 'resistant': 985, 'slightest': 1118, 'splash': 1169, 'repair': 969, 'samereason': 1035, 'visitreason': 1414, 'dirty': 387, 'taking': 1235, 'visit': 1413, 'againnever': 41, 'apart': 88, 'withstand': 1467, 'shining': 1097, 'attractive': 122, 'bulk': 245, 'hardly': 539, 'proven': 869, 'spending': 1168, 'dewali': 378, 'defecult': 355, 'returni': 1007, 'technical': 1242, 'req': 978, 'skip': 1116, 'youbut': 1492, 'behavior': 176, 'angry': 78, 'agent': 44, 'suman': 1216, 'blending': 201, 'hairit': 520, 'defines': 356, 'hairbut': 519, 'saturation': 1042, 'sec': 1059, 'productand': 851, 'affordable': 36, 'wathched': 1435, 'hows': 592, 'deliverd': 360, 'issueand': 631, 'dirtyplzz': 388, 'redmii': 947, 'intended': 618, 'repairing': 970, 'itagain': 637, 'actuallyand': 17, 'rejected': 962, 'weeki': 1442, 'weekand': 1441, 'smartones': 1131, 'productgood': 852, 'processorfront': 845, 'accuratedesign': 12, 'routine': 1024, 'alsotouch': 60, 'sensitivity': 1079, 'prototype': 868, 'afraid': 37, 'admit': 27, 'defeat': 351, 'vedio': 1398, 'recordingand': 944, 'earphone': 411, 'hundred': 595, 'key': 649}\n"
     ]
    }
   ],
   "source": [
    "# Vectorizing the words and counting the frequency for each\n",
    "# Extracting the features\n",
    "cv = CountVectorizer(max_features=1500)\n",
    "X = cv.fit_transform(corpus).toarray()\n",
    "y = dataset.iloc[:, 2].values\n",
    "print(cv.vocabulary_)"
   ]
  },
  {
   "cell_type": "code",
   "execution_count": 23,
   "metadata": {},
   "outputs": [],
   "source": [
    "#Splitting data into train, test and validation set\n",
    "\n",
    "X_train = X[0:90, :]\n",
    "\n",
    "X_test = X[90:128, :]\n",
    "\n",
    "y_train = y[0:90]\n",
    "\n",
    "y_test = y[90:128]\n",
    "\n",
    "X_val = X[128:159, :]\n",
    "\n",
    "y_val = y[128:159]\n"
   ]
  },
  {
   "cell_type": "code",
   "execution_count": 24,
   "metadata": {},
   "outputs": [
    {
     "name": "stdout",
     "output_type": "stream",
     "text": [
      "Train Accuracy from KNN: 67.77777777777779\n",
      "[[15  0  1]\n",
      " [ 5  0  3]\n",
      " [ 4  2  8]]\n",
      "Test Accuracy from KNN: 60.526315789473685\n",
      "              precision    recall  f1-score   support\n",
      "\n",
      "          -1       0.62      0.94      0.75        16\n",
      "           0       0.00      0.00      0.00         8\n",
      "           1       0.67      0.57      0.62        14\n",
      "\n",
      "    accuracy                           0.61        38\n",
      "   macro avg       0.43      0.50      0.46        38\n",
      "weighted avg       0.51      0.61      0.54        38\n",
      "\n"
     ]
    }
   ],
   "source": [
    "# Using KNN\n",
    "\n",
    "classifier = KNeighborsClassifier(n_neighbors = 5, metric='minkowski', p=2)\n",
    "classifier.fit(X_train,y_train)\n",
    "\n",
    "y_pred_knn0 = classifier.predict(X_train)\n",
    "acc_knn0 = accuracy_score(y_train, y_pred_knn0)*100\n",
    "print('Train Accuracy from KNN:', acc_knn0)\n",
    "\n",
    "y_pred_knn = classifier.predict(X_test)\n",
    "cm = confusion_matrix(y_test, y_pred_knn)\n",
    "print(cm)\n",
    "acc_knn = accuracy_score(y_test, y_pred_knn)*100\n",
    "print('Test Accuracy from KNN:', acc_knn)\n",
    "print(classification_report(y_test, y_pred_knn))"
   ]
  },
  {
   "cell_type": "code",
   "execution_count": 25,
   "metadata": {},
   "outputs": [
    {
     "name": "stdout",
     "output_type": "stream",
     "text": [
      " Train Accuracy from Logistic Regression classifier: 100.0\n",
      "[[14  0  2]\n",
      " [ 3  0  5]\n",
      " [ 1  2 11]]\n",
      " Test Accuracy from Logistic Regression classifier: 65.78947368421053\n",
      "              precision    recall  f1-score   support\n",
      "\n",
      "          -1       0.78      0.88      0.82        16\n",
      "           0       0.00      0.00      0.00         8\n",
      "           1       0.61      0.79      0.69        14\n",
      "\n",
      "    accuracy                           0.66        38\n",
      "   macro avg       0.46      0.55      0.50        38\n",
      "weighted avg       0.55      0.66      0.60        38\n",
      "\n"
     ]
    }
   ],
   "source": [
    "#Using LogisticRegression\n",
    "\n",
    "lr = LogisticRegression(max_iter=158) \n",
    "lr.fit(X_train, y_train)\n",
    "y_pred_lr0 = lr.predict(X_train)\n",
    "acc_lr0 = accuracy_score(y_train, y_pred_lr0)*100\n",
    "print(' Train Accuracy from Logistic Regression classifier:', acc_lr0)\n",
    "\n",
    "y_pred_lr = lr.predict(X_test)\n",
    "cm = confusion_matrix(y_test, y_pred_lr)\n",
    "print(cm)\n",
    "acc_lr = accuracy_score(y_test, y_pred_lr)*100\n",
    "print(' Test Accuracy from Logistic Regression classifier:', acc_lr)\n",
    "print(classification_report(y_test, y_pred_lr))"
   ]
  },
  {
   "cell_type": "code",
   "execution_count": 26,
   "metadata": {},
   "outputs": [
    {
     "name": "stdout",
     "output_type": "stream",
     "text": [
      " Train Accuracy from Random Forest classifier: 98.88888888888889\n",
      "[[14  0  2]\n",
      " [ 3  0  5]\n",
      " [ 3  0 11]]\n",
      " Test Accuracy from Random Forest classifier: 65.78947368421053\n",
      "              precision    recall  f1-score   support\n",
      "\n",
      "          -1       0.70      0.88      0.78        16\n",
      "           0       0.00      0.00      0.00         8\n",
      "           1       0.61      0.79      0.69        14\n",
      "\n",
      "    accuracy                           0.66        38\n",
      "   macro avg       0.44      0.55      0.49        38\n",
      "weighted avg       0.52      0.66      0.58        38\n",
      "\n"
     ]
    },
    {
     "name": "stderr",
     "output_type": "stream",
     "text": [
      "C:\\Users\\rojit\\anaconda3\\lib\\site-packages\\sklearn\\metrics\\_classification.py:1272: UndefinedMetricWarning: Precision and F-score are ill-defined and being set to 0.0 in labels with no predicted samples. Use `zero_division` parameter to control this behavior.\n",
      "  _warn_prf(average, modifier, msg_start, len(result))\n"
     ]
    }
   ],
   "source": [
    "# Random forest classifier\n",
    "\n",
    "RF= RandomForestClassifier(n_estimators= 16, criterion=\"entropy\")\n",
    "RF.fit(X_train, y_train)\n",
    "Rpred0 = RF.predict(X_train)\n",
    "acc_rf0 = accuracy_score(y_train, Rpred0)*100\n",
    "print(' Train Accuracy from Random Forest classifier:', acc_rf0)\n",
    "\n",
    "Rpred = RF.predict(X_test)\n",
    "cm = confusion_matrix(y_test, Rpred)\n",
    "print(cm)\n",
    "acc_rf = accuracy_score(y_test, Rpred)*100\n",
    "print(' Test Accuracy from Random Forest classifier:', acc_rf)\n",
    "print(classification_report(y_test, Rpred))"
   ]
  },
  {
   "cell_type": "code",
   "execution_count": 27,
   "metadata": {},
   "outputs": [
    {
     "name": "stdout",
     "output_type": "stream",
     "text": [
      "+---------------------+-------------------+--------------------+\n",
      "|      Algorithm      |   Train Accuracy  |   Test Accuracy    |\n",
      "+---------------------+-------------------+--------------------+\n",
      "|         KNN         | 67.77777777777779 | 60.526315789473685 |\n",
      "| Logistic Regression |       100.0       | 65.78947368421053  |\n",
      "|    Random Forest    | 98.88888888888889 | 65.78947368421053  |\n",
      "+---------------------+-------------------+--------------------+\n"
     ]
    }
   ],
   "source": [
    "# printing pretty table\n",
    "from prettytable import PrettyTable\n",
    "Table = PrettyTable([\"Algorithm\", \"Train Accuracy\",\"Test Accuracy\"])\n",
    "Table.add_row([\"KNN\", acc_knn0, acc_knn])\n",
    "Table.add_row([\"Logistic Regression\", acc_lr0, acc_lr])\n",
    "Table.add_row([\"Random Forest\", acc_rf0, acc_rf])\n",
    "print(Table)"
   ]
  }
 ],
 "metadata": {
  "kernelspec": {
   "display_name": "Python 3",
   "language": "python",
   "name": "python3"
  },
  "language_info": {
   "codemirror_mode": {
    "name": "ipython",
    "version": 3
   },
   "file_extension": ".py",
   "mimetype": "text/x-python",
   "name": "python",
   "nbconvert_exporter": "python",
   "pygments_lexer": "ipython3",
   "version": "3.7.6"
  }
 },
 "nbformat": 4,
 "nbformat_minor": 4
}

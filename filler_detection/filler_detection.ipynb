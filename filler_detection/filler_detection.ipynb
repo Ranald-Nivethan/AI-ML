{
 "cells": [
  {
   "cell_type": "code",
   "execution_count": 1,
   "metadata": {},
   "outputs": [
    {
     "name": "stderr",
     "output_type": "stream",
     "text": [
      "C:\\Users\\rojit\\anaconda3\\lib\\site-packages\\pydub\\utils.py:170: RuntimeWarning: Couldn't find ffmpeg or avconv - defaulting to ffmpeg, but may not work\n",
      "  warn(\"Couldn't find ffmpeg or avconv - defaulting to ffmpeg, but may not work\", RuntimeWarning)\n"
     ]
    }
   ],
   "source": [
    "import speech_recognition as sr\n",
    "import pydub\n",
    "import nltk\n",
    "import string\n",
    "import re\n",
    "\n",
    "from nltk.corpus import words"
   ]
  },
  {
   "cell_type": "code",
   "execution_count": 2,
   "metadata": {},
   "outputs": [
    {
     "name": "stderr",
     "output_type": "stream",
     "text": [
      "[nltk_data] Downloading package words to\n",
      "[nltk_data]     C:\\Users\\rojit\\AppData\\Roaming\\nltk_data...\n",
      "[nltk_data]   Package words is already up-to-date!\n"
     ]
    },
    {
     "data": {
      "text/plain": [
       "True"
      ]
     },
     "execution_count": 2,
     "metadata": {},
     "output_type": "execute_result"
    }
   ],
   "source": [
    "nltk.download('words')"
   ]
  },
  {
   "cell_type": "code",
   "execution_count": 3,
   "metadata": {},
   "outputs": [],
   "source": [
    "filename = \"C:/Users/rojit/Desktop/TCS, Assignments/scilence detection/Ip_audio.wav\"\n",
    "r = sr.Recognizer()"
   ]
  },
  {
   "cell_type": "code",
   "execution_count": 4,
   "metadata": {},
   "outputs": [
    {
     "name": "stdout",
     "output_type": "stream",
     "text": [
      "hello this is the recording like forte 7 and 8 assignment this is the second recording like for the assignment\n"
     ]
    }
   ],
   "source": [
    "# Converting the audio to text\n",
    "\n",
    "with sr.AudioFile(filename) as source:\n",
    "    # listen for the data (load audio to memory)\n",
    "    audio_data = r.record(source)\n",
    "    # recognize (convert from speech to text)\n",
    "    text = r.recognize_google(audio_data)\n",
    "    print(text)"
   ]
  },
  {
   "cell_type": "code",
   "execution_count": 5,
   "metadata": {},
   "outputs": [
    {
     "name": "stdout",
     "output_type": "stream",
     "text": [
      "['hello', 'this', 'is', 'the', 'recording', 'like', 'forte', '7', 'and', '8', 'assignment', 'this', 'is', 'the', 'second', 'recording', 'like', 'for', 'the', 'assignment']\n"
     ]
    }
   ],
   "source": [
    "# converting string into list of words\n",
    "t = list(text.split(\" \"))\n",
    "print(t)"
   ]
  },
  {
   "cell_type": "code",
   "execution_count": 6,
   "metadata": {},
   "outputs": [
    {
     "name": "stdout",
     "output_type": "stream",
     "text": [
      "['hello', 'this', 'is', 'the', 'recording', 'like', 'forte', '7', 'and', '8', 'assignment', 'this', 'is', 'the', 'second', 'recording', 'like', 'for', 'the', 'assignment']\n"
     ]
    }
   ],
   "source": [
    "# Lemmatization of words\n",
    "wn = nltk.WordNetLemmatizer()\n",
    "te = []\n",
    "for word in t:\n",
    "    te.append(wn.lemmatize(word))\n",
    "    \n",
    "print(te)\n"
   ]
  },
  {
   "cell_type": "code",
   "execution_count": 7,
   "metadata": {},
   "outputs": [],
   "source": [
    "# function to check if a word is a Noun(for Names)\n",
    "def Check_Noun(text):\n",
    "    \n",
    "    ans = nltk.pos_tag(text)\n",
    "    val = ans[0][1]\n",
    "    if(val == 'NN' or val == 'NNS' or val == 'NNPS' or val == 'NNP'):\n",
    "        return True\n",
    "    else:\n",
    "        return False\n"
   ]
  },
  {
   "cell_type": "code",
   "execution_count": 8,
   "metadata": {},
   "outputs": [],
   "source": [
    "#I use like frequently as a filler\n",
    "filler = []\n",
    "for i in range(0,len(te)):\n",
    "    if(Check_Noun(te[i]) == True):\n",
    "        f= \"like\"\n",
    "        if(te[i+1] == f):\n",
    "            filler.append(f)"
   ]
  },
  {
   "cell_type": "code",
   "execution_count": 9,
   "metadata": {},
   "outputs": [],
   "source": [
    "#Check if a word is not a noun and is not an English word \n",
    "#finding filler words\n",
    "\n",
    "for word in te:\n",
    "    if(word in words.words() == False):\n",
    "        if(Check_Noun(word) == False):\n",
    "            filler.append(word)\n",
    "                "
   ]
  },
  {
   "cell_type": "code",
   "execution_count": 10,
   "metadata": {},
   "outputs": [
    {
     "name": "stdout",
     "output_type": "stream",
     "text": [
      "The fillers are\n",
      "['like', 'like']\n"
     ]
    }
   ],
   "source": [
    "#printing fillers\n",
    "print(\"The fillers are\")\n",
    "print(filler)"
   ]
  },
  {
   "cell_type": "code",
   "execution_count": null,
   "metadata": {},
   "outputs": [],
   "source": []
  }
 ],
 "metadata": {
  "kernelspec": {
   "display_name": "Python 3",
   "language": "python",
   "name": "python3"
  },
  "language_info": {
   "codemirror_mode": {
    "name": "ipython",
    "version": 3
   },
   "file_extension": ".py",
   "mimetype": "text/x-python",
   "name": "python",
   "nbconvert_exporter": "python",
   "pygments_lexer": "ipython3",
   "version": "3.7.6"
  }
 },
 "nbformat": 4,
 "nbformat_minor": 4
}
